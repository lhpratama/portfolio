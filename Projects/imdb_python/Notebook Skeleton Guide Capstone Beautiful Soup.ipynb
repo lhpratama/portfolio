{
 "cells": [
  {
   "cell_type": "markdown",
   "metadata": {},
   "source": [
    "# Capstone Webscrapping using BeautifulSoup\n",
    "\n",
    "This notebook contains guidances & tasks on the data processing for the application\n",
    "\n",
    "## background\n",
    "\n",
    "(Please insert the background here )\n",
    "\n",
    "## Requesting the Data and Creating a BeautifulSoup\n",
    "\n",
    "Let's begin with requesting the web from the site with `get` method."
   ]
  },
  {
   "cell_type": "code",
   "execution_count": 1,
   "metadata": {
    "ExecuteTime": {
     "end_time": "2020-01-13T05:12:23.275508Z",
     "start_time": "2020-01-13T05:12:20.009898Z"
    }
   },
   "outputs": [],
   "source": [
    "import requests\n",
    "\n",
    "url_get = requests.get('https://www.imdb.com/search/title/?release_date=2023-01-01,2023-7-31')"
   ]
  },
  {
   "cell_type": "markdown",
   "metadata": {},
   "source": [
    "To visualize what exactly you get from the `request.get`, we can use .content so ee what we exactly get, in here i slice it so it won't make our screen full of the html we get from the page. You can delete the slicing if you want to see what we fully get."
   ]
  },
  {
   "cell_type": "code",
   "execution_count": 2,
   "metadata": {
    "ExecuteTime": {
     "end_time": "2020-01-13T05:12:23.290648Z",
     "start_time": "2020-01-13T05:12:23.277650Z"
    }
   },
   "outputs": [
    {
     "data": {
      "text/plain": [
       "b'\\n<!DOCTYPE html>\\n<html\\n    xmlns:og=\"http://ogp.me/ns#\"\\n    xmlns:fb=\"http://www.facebook.com/2008/fbml\">\\n    <head>\\n         \\n\\n        <meta charset=\"utf-8\">\\n\\n\\n\\n\\n        <script type=\"text/javascript\">var IMDbTimer={starttime: new Date().getTime(),pt:\\'java\\'};</script>\\n\\n<script>\\n    if (typeof uet == \\'function\\') {\\n      uet(\"bb\", \"LoadTitle\", {wb: 1});\\n    }\\n</script>\\n  <script>(function(t){ (t.events = t.events || {})[\"csm_head_pre_title\"] = new Date().getTime(); })(IMDbTimer);</script>\\n      '"
      ]
     },
     "execution_count": 2,
     "metadata": {},
     "output_type": "execute_result"
    }
   ],
   "source": [
    "url_get.content[1:500]"
   ]
  },
  {
   "cell_type": "markdown",
   "metadata": {},
   "source": [
    "As we can see we get a very unstructured and complex html, which actually contains the codes needed to show the webpages on your web browser. But we as human still confused what and where we can use that piece of code, so here where we use the beautifulsoup. Beautiful soup class will result a beautifulsoup object. Beautiful Soup transforms a complex HTML document into a complex tree of Python objects. \n",
    "\n",
    "Let's make Beautiful soup object and feel free to explore the object here."
   ]
  },
  {
   "cell_type": "code",
   "execution_count": 3,
   "metadata": {
    "ExecuteTime": {
     "end_time": "2020-01-13T05:12:23.808122Z",
     "start_time": "2020-01-13T05:12:23.292610Z"
    }
   },
   "outputs": [],
   "source": [
    "from bs4 import BeautifulSoup \n",
    "\n",
    "soup = BeautifulSoup(url_get.content,\"html.parser\")"
   ]
  },
  {
   "cell_type": "markdown",
   "metadata": {},
   "source": [
    "## Finding the right key to scrap the data & Extracting the right information"
   ]
  },
  {
   "cell_type": "markdown",
   "metadata": {},
   "source": [
    "Find the key and put the key into the `.find()` Put all the exploring the right key at this cell. (please change this markdown with your explanation)"
   ]
  },
  {
   "cell_type": "code",
   "execution_count": 4,
   "metadata": {
    "ExecuteTime": {
     "end_time": "2020-01-13T05:12:23.878904Z",
     "start_time": "2020-01-13T05:12:23.854974Z"
    }
   },
   "outputs": [
    {
     "name": "stdout",
     "output_type": "stream",
     "text": [
      "div class=\"lister-list\">\n",
      " <div class=\"lister-item mode-advanced\">\n",
      "  <div class=\"lister-top-right\">\n",
      "   <div class=\"ribbonize\" data-caller=\"filmosearch\" data-tconst=\"tt15398776\">\n",
      "   </div>\n",
      "  </div>\n",
      "  <div class=\"lister-item-image float-left\">\n",
      "   <a href=\"/title/tt15398776/\">\n",
      "    <img alt=\"Oppenheimer\" class=\"loadlate\" data-tconst=\"tt15398776\" height=\"98\" loadlate=\"https://m.media-amazon.com/images/M/MV5BMDBmYTZjNjUtN2M1MS00MTQ2LTk2ODgtNzc2M2QyZGE5NTVjXkEyXkFqcGdeQXVyNzAwMjU2MTY@._V1_UX67_CR0,0,67\n"
     ]
    }
   ],
   "source": [
    "#Pengambilan data tabel dari website\n",
    "table = soup.find('div', attrs={'class':'lister-list'})\n",
    "print(table.prettify()[1:500])"
   ]
  },
  {
   "cell_type": "code",
   "execution_count": 5,
   "metadata": {},
   "outputs": [
    {
     "data": {
      "text/plain": [
       "[<div class=\"lister-item mode-advanced\">\n",
       " <div class=\"lister-top-right\">\n",
       " <div class=\"ribbonize\" data-caller=\"filmosearch\" data-tconst=\"tt15398776\"></div>\n",
       " </div>\n",
       " <div class=\"lister-item-image float-left\">\n",
       " <a href=\"/title/tt15398776/\"> <img alt=\"Oppenheimer\" class=\"loadlate\" data-tconst=\"tt15398776\" height=\"98\" loadlate=\"https://m.media-amazon.com/images/M/MV5BMDBmYTZjNjUtN2M1MS00MTQ2LTk2ODgtNzc2M2QyZGE5NTVjXkEyXkFqcGdeQXVyNzAwMjU2MTY@._V1_UX67_CR0,0,67,98_AL_.jpg\" src=\"https://m.media-amazon.com/images/S/sash/4FyxwxECzL-U1J8.png\" width=\"67\"/>\n",
       " </a> </div>\n",
       " <div class=\"lister-item-content\">\n",
       " <h3 class=\"lister-item-header\">\n",
       " <span class=\"lister-item-index unbold text-primary\">1.</span>\n",
       " <a href=\"/title/tt15398776/\">Oppenheimer</a>\n",
       " <span class=\"lister-item-year text-muted unbold\">(2023)</span>\n",
       " </h3>\n",
       " <p class=\"text-muted\">\n",
       " <span class=\"certificate\">13+</span>\n",
       " <span class=\"ghost\">|</span>\n",
       " <span class=\"runtime\">180 min</span>\n",
       " <span class=\"ghost\">|</span>\n",
       " <span class=\"genre\">\n",
       " Biography, Drama, History            </span>\n",
       " </p>\n",
       " <div class=\"ratings-bar\">\n",
       " <div class=\"inline-block ratings-imdb-rating\" data-value=\"8.6\" name=\"ir\">\n",
       " <span class=\"global-sprite rating-star imdb-rating\"></span>\n",
       " <strong>8.6</strong>\n",
       " </div>\n",
       " <div class=\"inline-block ratings-user-rating\">\n",
       " <span class=\"userRatingValue\" data-tconst=\"tt15398776\" id=\"urv_tt15398776\">\n",
       " <span class=\"global-sprite rating-star no-rating\"></span>\n",
       " <span class=\"rate\" data-no-rating=\"Rate this\" data-value=\"0\" name=\"ur\">Rate this</span>\n",
       " </span>\n",
       " <div class=\"starBarWidget\" id=\"sb_tt15398776\">\n",
       " <div class=\"rating rating-list\" data-csrf-token=\"\" data-ga-identifier=\"\" data-starbar-class=\"rating-list\" data-user=\"\" id=\"tt15398776|imdb|8.6|8.6|adv_li_tt||advsearch|title\" itemprop=\"aggregateRating\" itemscope=\"\" itemtype=\"http://schema.org/AggregateRating\" title=\"Users rated this 8.6/10 (428,674 votes) - click stars to rate\">\n",
       " <meta content=\"8.6\" itemprop=\"ratingValue\"/>\n",
       " <meta content=\"10\" itemprop=\"bestRating\"/>\n",
       " <meta content=\"428674\" itemprop=\"ratingCount\"/>\n",
       " <span class=\"rating-bg\"> </span>\n",
       " <span class=\"rating-imdb\" style=\"width: 120.4px\"> </span>\n",
       " <span class=\"rating-stars\">\n",
       " <a href=\"/register/login?why=vote\" rel=\"nofollow\" title=\"Register or login to rate this title\"><span>1</span></a>\n",
       " <a href=\"/register/login?why=vote\" rel=\"nofollow\" title=\"Register or login to rate this title\"><span>2</span></a>\n",
       " <a href=\"/register/login?why=vote\" rel=\"nofollow\" title=\"Register or login to rate this title\"><span>3</span></a>\n",
       " <a href=\"/register/login?why=vote\" rel=\"nofollow\" title=\"Register or login to rate this title\"><span>4</span></a>\n",
       " <a href=\"/register/login?why=vote\" rel=\"nofollow\" title=\"Register or login to rate this title\"><span>5</span></a>\n",
       " <a href=\"/register/login?why=vote\" rel=\"nofollow\" title=\"Register or login to rate this title\"><span>6</span></a>\n",
       " <a href=\"/register/login?why=vote\" rel=\"nofollow\" title=\"Register or login to rate this title\"><span>7</span></a>\n",
       " <a href=\"/register/login?why=vote\" rel=\"nofollow\" title=\"Register or login to rate this title\"><span>8</span></a>\n",
       " <a href=\"/register/login?why=vote\" rel=\"nofollow\" title=\"Register or login to rate this title\"><span>9</span></a>\n",
       " <a href=\"/register/login?why=vote\" rel=\"nofollow\" title=\"Register or login to rate this title\"><span>10</span></a>\n",
       " </span>\n",
       " <span class=\"rating-rating\"><span class=\"value\">8.6</span><span class=\"grey\">/</span><span class=\"grey\">10</span></span>\n",
       " <span class=\"rating-cancel\"><a href=\"/title/tt15398776/vote\" rel=\"nofollow\" title=\"Delete\"><span>X</span></a></span>\n",
       "  </div>\n",
       " </div>\n",
       " </div>\n",
       " <div class=\"inline-block ratings-metascore\">\n",
       " <span class=\"metascore favorable\">88        </span>\n",
       "         Metascore\n",
       "             </div>\n",
       " </div>\n",
       " <p class=\"text-muted\">\n",
       " The story of American scientist, <a href=\"/name/nm0649185\">J. Robert Oppenheimer</a>, and his role in the development of the atomic bomb.</p>\n",
       " <p class=\"\">\n",
       "     Director:\n",
       " <a href=\"/name/nm0634240/\">Christopher Nolan</a>\n",
       " <span class=\"ghost\">|</span> \n",
       "     Stars:\n",
       " <a href=\"/name/nm0614165/\">Cillian Murphy</a>, \n",
       " <a href=\"/name/nm1289434/\">Emily Blunt</a>, \n",
       " <a href=\"/name/nm0000354/\">Matt Damon</a>, \n",
       " <a href=\"/name/nm0000375/\">Robert Downey Jr.</a>\n",
       " </p>\n",
       " <p class=\"sort-num_votes-visible\">\n",
       " <span class=\"text-muted\">Votes:</span>\n",
       " <span data-value=\"428674\" name=\"nv\">428,674</span>\n",
       " </p>\n",
       " </div>\n",
       " </div>]"
      ]
     },
     "execution_count": 5,
     "metadata": {},
     "output_type": "execute_result"
    }
   ],
   "source": [
    "#Pengambilan data row tabel\n",
    "table.find_all('div', attrs={'class':'lister-item mode-advanced'})[:1]"
   ]
  },
  {
   "cell_type": "markdown",
   "metadata": {},
   "source": [
    "Finding row length."
   ]
  },
  {
   "cell_type": "code",
   "execution_count": 6,
   "metadata": {},
   "outputs": [
    {
     "data": {
      "text/plain": [
       "50"
      ]
     },
     "execution_count": 6,
     "metadata": {},
     "output_type": "execute_result"
    }
   ],
   "source": [
    "#Pengecekan jumlah row total\n",
    "row = table.find_all('div', attrs={'class':'lister-item mode-advanced'})\n",
    "row_length = len(row)\n",
    "row_length"
   ]
  },
  {
   "cell_type": "markdown",
   "metadata": {},
   "source": [
    "Scraping process"
   ]
  },
  {
   "cell_type": "code",
   "execution_count": 20,
   "metadata": {},
   "outputs": [
    {
     "name": "stdout",
     "output_type": "stream",
     "text": [
      "[('Oppenheimer', '8.6', '88                ', '428674')]\n",
      "[('Oppenheimer', '8.6', '88                ', '428674'), ('Barbie', '7.2', '80                ', '299786')]\n",
      "[('Oppenheimer', '8.6', '88                ', '428674'), ('Barbie', '7.2', '80                ', '299786'), ('Special Ops: Lioness', '7.7', '0', '19941')]\n",
      "[('Oppenheimer', '8.6', '88                ', '428674'), ('Barbie', '7.2', '80                ', '299786'), ('Special Ops: Lioness', '7.7', '0', '19941'), ('The Little Mermaid', '7.2', '59                ', '123136')]\n",
      "[('Oppenheimer', '8.6', '88                ', '428674'), ('Barbie', '7.2', '80                ', '299786'), ('Special Ops: Lioness', '7.7', '0', '19941'), ('The Little Mermaid', '7.2', '59                ', '123136'), ('Teenage Mutant Ninja Turtles: Mutant Mayhem', '7.3', '74                ', '32397')]\n",
      "[('Oppenheimer', '8.6', '88                ', '428674'), ('Barbie', '7.2', '80                ', '299786'), ('Special Ops: Lioness', '7.7', '0', '19941'), ('The Little Mermaid', '7.2', '59                ', '123136'), ('Teenage Mutant Ninja Turtles: Mutant Mayhem', '7.3', '74                ', '32397'), ('Indiana Jones and the Dial of Destiny', '6.7', '58                ', '118824')]\n",
      "[('Oppenheimer', '8.6', '88                ', '428674'), ('Barbie', '7.2', '80                ', '299786'), ('Special Ops: Lioness', '7.7', '0', '19941'), ('The Little Mermaid', '7.2', '59                ', '123136'), ('Teenage Mutant Ninja Turtles: Mutant Mayhem', '7.3', '74                ', '32397'), ('Indiana Jones and the Dial of Destiny', '6.7', '58                ', '118824'), ('No Hard Feelings', '6.4', '59                ', '67244')]\n",
      "[('Oppenheimer', '8.6', '88                ', '428674'), ('Barbie', '7.2', '80                ', '299786'), ('Special Ops: Lioness', '7.7', '0', '19941'), ('The Little Mermaid', '7.2', '59                ', '123136'), ('Teenage Mutant Ninja Turtles: Mutant Mayhem', '7.3', '74                ', '32397'), ('Indiana Jones and the Dial of Destiny', '6.7', '58                ', '118824'), ('No Hard Feelings', '6.4', '59                ', '67244'), ('The Flash', '6.8', '55                ', '167412')]\n",
      "[('Oppenheimer', '8.6', '88                ', '428674'), ('Barbie', '7.2', '80                ', '299786'), ('Special Ops: Lioness', '7.7', '0', '19941'), ('The Little Mermaid', '7.2', '59                ', '123136'), ('Teenage Mutant Ninja Turtles: Mutant Mayhem', '7.3', '74                ', '32397'), ('Indiana Jones and the Dial of Destiny', '6.7', '58                ', '118824'), ('No Hard Feelings', '6.4', '59                ', '67244'), ('The Flash', '6.8', '55                ', '167412'), ('Bottoms', '7.6', '77                ', '4690')]\n",
      "[('Oppenheimer', '8.6', '88                ', '428674'), ('Barbie', '7.2', '80                ', '299786'), ('Special Ops: Lioness', '7.7', '0', '19941'), ('The Little Mermaid', '7.2', '59                ', '123136'), ('Teenage Mutant Ninja Turtles: Mutant Mayhem', '7.3', '74                ', '32397'), ('Indiana Jones and the Dial of Destiny', '6.7', '58                ', '118824'), ('No Hard Feelings', '6.4', '59                ', '67244'), ('The Flash', '6.8', '55                ', '167412'), ('Bottoms', '7.6', '77                ', '4690'), ('Sound of Freedom', '7.9', '36                ', '55705')]\n",
      "[('Oppenheimer', '8.6', '88                ', '428674'), ('Barbie', '7.2', '80                ', '299786'), ('Special Ops: Lioness', '7.7', '0', '19941'), ('The Little Mermaid', '7.2', '59                ', '123136'), ('Teenage Mutant Ninja Turtles: Mutant Mayhem', '7.3', '74                ', '32397'), ('Indiana Jones and the Dial of Destiny', '6.7', '58                ', '118824'), ('No Hard Feelings', '6.4', '59                ', '67244'), ('The Flash', '6.8', '55                ', '167412'), ('Bottoms', '7.6', '77                ', '4690'), ('Sound of Freedom', '7.9', '36                ', '55705'), ('Gran Turismo', '7.4', '48                ', '22148')]\n",
      "[('Oppenheimer', '8.6', '88                ', '428674'), ('Barbie', '7.2', '80                ', '299786'), ('Special Ops: Lioness', '7.7', '0', '19941'), ('The Little Mermaid', '7.2', '59                ', '123136'), ('Teenage Mutant Ninja Turtles: Mutant Mayhem', '7.3', '74                ', '32397'), ('Indiana Jones and the Dial of Destiny', '6.7', '58                ', '118824'), ('No Hard Feelings', '6.4', '59                ', '67244'), ('The Flash', '6.8', '55                ', '167412'), ('Bottoms', '7.6', '77                ', '4690'), ('Sound of Freedom', '7.9', '36                ', '55705'), ('Gran Turismo', '7.4', '48                ', '22148'), ('Meg 2: The Trench', '5.2', '40                ', '41150')]\n",
      "[('Oppenheimer', '8.6', '88                ', '428674'), ('Barbie', '7.2', '80                ', '299786'), ('Special Ops: Lioness', '7.7', '0', '19941'), ('The Little Mermaid', '7.2', '59                ', '123136'), ('Teenage Mutant Ninja Turtles: Mutant Mayhem', '7.3', '74                ', '32397'), ('Indiana Jones and the Dial of Destiny', '6.7', '58                ', '118824'), ('No Hard Feelings', '6.4', '59                ', '67244'), ('The Flash', '6.8', '55                ', '167412'), ('Bottoms', '7.6', '77                ', '4690'), ('Sound of Freedom', '7.9', '36                ', '55705'), ('Gran Turismo', '7.4', '48                ', '22148'), ('Meg 2: The Trench', '5.2', '40                ', '41150'), ('Spider-Man: Across the Spider-Verse', '8.7', '86                ', '256638')]\n",
      "[('Oppenheimer', '8.6', '88                ', '428674'), ('Barbie', '7.2', '80                ', '299786'), ('Special Ops: Lioness', '7.7', '0', '19941'), ('The Little Mermaid', '7.2', '59                ', '123136'), ('Teenage Mutant Ninja Turtles: Mutant Mayhem', '7.3', '74                ', '32397'), ('Indiana Jones and the Dial of Destiny', '6.7', '58                ', '118824'), ('No Hard Feelings', '6.4', '59                ', '67244'), ('The Flash', '6.8', '55                ', '167412'), ('Bottoms', '7.6', '77                ', '4690'), ('Sound of Freedom', '7.9', '36                ', '55705'), ('Gran Turismo', '7.4', '48                ', '22148'), ('Meg 2: The Trench', '5.2', '40                ', '41150'), ('Spider-Man: Across the Spider-Verse', '8.7', '86                ', '256638'), ('Guardians of the Galaxy Vol. 3', '7.9', '64                ', '313994')]\n",
      "[('Oppenheimer', '8.6', '88                ', '428674'), ('Barbie', '7.2', '80                ', '299786'), ('Special Ops: Lioness', '7.7', '0', '19941'), ('The Little Mermaid', '7.2', '59                ', '123136'), ('Teenage Mutant Ninja Turtles: Mutant Mayhem', '7.3', '74                ', '32397'), ('Indiana Jones and the Dial of Destiny', '6.7', '58                ', '118824'), ('No Hard Feelings', '6.4', '59                ', '67244'), ('The Flash', '6.8', '55                ', '167412'), ('Bottoms', '7.6', '77                ', '4690'), ('Sound of Freedom', '7.9', '36                ', '55705'), ('Gran Turismo', '7.4', '48                ', '22148'), ('Meg 2: The Trench', '5.2', '40                ', '41150'), ('Spider-Man: Across the Spider-Verse', '8.7', '86                ', '256638'), ('Guardians of the Galaxy Vol. 3', '7.9', '64                ', '313994'), ('Justified: City Primeval', '7.5', '0', '10181')]\n",
      "[('Oppenheimer', '8.6', '88                ', '428674'), ('Barbie', '7.2', '80                ', '299786'), ('Special Ops: Lioness', '7.7', '0', '19941'), ('The Little Mermaid', '7.2', '59                ', '123136'), ('Teenage Mutant Ninja Turtles: Mutant Mayhem', '7.3', '74                ', '32397'), ('Indiana Jones and the Dial of Destiny', '6.7', '58                ', '118824'), ('No Hard Feelings', '6.4', '59                ', '67244'), ('The Flash', '6.8', '55                ', '167412'), ('Bottoms', '7.6', '77                ', '4690'), ('Sound of Freedom', '7.9', '36                ', '55705'), ('Gran Turismo', '7.4', '48                ', '22148'), ('Meg 2: The Trench', '5.2', '40                ', '41150'), ('Spider-Man: Across the Spider-Verse', '8.7', '86                ', '256638'), ('Guardians of the Galaxy Vol. 3', '7.9', '64                ', '313994'), ('Justified: City Primeval', '7.5', '0', '10181'), ('Dungeons & Dragons: Honor Among Thieves', '7.3', '72                ', '180244')]\n",
      "[('Oppenheimer', '8.6', '88                ', '428674'), ('Barbie', '7.2', '80                ', '299786'), ('Special Ops: Lioness', '7.7', '0', '19941'), ('The Little Mermaid', '7.2', '59                ', '123136'), ('Teenage Mutant Ninja Turtles: Mutant Mayhem', '7.3', '74                ', '32397'), ('Indiana Jones and the Dial of Destiny', '6.7', '58                ', '118824'), ('No Hard Feelings', '6.4', '59                ', '67244'), ('The Flash', '6.8', '55                ', '167412'), ('Bottoms', '7.6', '77                ', '4690'), ('Sound of Freedom', '7.9', '36                ', '55705'), ('Gran Turismo', '7.4', '48                ', '22148'), ('Meg 2: The Trench', '5.2', '40                ', '41150'), ('Spider-Man: Across the Spider-Verse', '8.7', '86                ', '256638'), ('Guardians of the Galaxy Vol. 3', '7.9', '64                ', '313994'), ('Justified: City Primeval', '7.5', '0', '10181'), ('Dungeons & Dragons: Honor Among Thieves', '7.3', '72                ', '180244'), ('Love Again', '5.8', '32                ', '8350')]\n",
      "[('Oppenheimer', '8.6', '88                ', '428674'), ('Barbie', '7.2', '80                ', '299786'), ('Special Ops: Lioness', '7.7', '0', '19941'), ('The Little Mermaid', '7.2', '59                ', '123136'), ('Teenage Mutant Ninja Turtles: Mutant Mayhem', '7.3', '74                ', '32397'), ('Indiana Jones and the Dial of Destiny', '6.7', '58                ', '118824'), ('No Hard Feelings', '6.4', '59                ', '67244'), ('The Flash', '6.8', '55                ', '167412'), ('Bottoms', '7.6', '77                ', '4690'), ('Sound of Freedom', '7.9', '36                ', '55705'), ('Gran Turismo', '7.4', '48                ', '22148'), ('Meg 2: The Trench', '5.2', '40                ', '41150'), ('Spider-Man: Across the Spider-Verse', '8.7', '86                ', '256638'), ('Guardians of the Galaxy Vol. 3', '7.9', '64                ', '313994'), ('Justified: City Primeval', '7.5', '0', '10181'), ('Dungeons & Dragons: Honor Among Thieves', '7.3', '72                ', '180244'), ('Love Again', '5.8', '32                ', '8350'), ('The Boogeyman', '6.0', '55                ', '21691')]\n",
      "[('Oppenheimer', '8.6', '88                ', '428674'), ('Barbie', '7.2', '80                ', '299786'), ('Special Ops: Lioness', '7.7', '0', '19941'), ('The Little Mermaid', '7.2', '59                ', '123136'), ('Teenage Mutant Ninja Turtles: Mutant Mayhem', '7.3', '74                ', '32397'), ('Indiana Jones and the Dial of Destiny', '6.7', '58                ', '118824'), ('No Hard Feelings', '6.4', '59                ', '67244'), ('The Flash', '6.8', '55                ', '167412'), ('Bottoms', '7.6', '77                ', '4690'), ('Sound of Freedom', '7.9', '36                ', '55705'), ('Gran Turismo', '7.4', '48                ', '22148'), ('Meg 2: The Trench', '5.2', '40                ', '41150'), ('Spider-Man: Across the Spider-Verse', '8.7', '86                ', '256638'), ('Guardians of the Galaxy Vol. 3', '7.9', '64                ', '313994'), ('Justified: City Primeval', '7.5', '0', '10181'), ('Dungeons & Dragons: Honor Among Thieves', '7.3', '72                ', '180244'), ('Love Again', '5.8', '32                ', '8350'), ('The Boogeyman', '6.0', '55                ', '21691'), ('Past Lives', '8.1', '94                ', '20599')]\n",
      "[('Oppenheimer', '8.6', '88                ', '428674'), ('Barbie', '7.2', '80                ', '299786'), ('Special Ops: Lioness', '7.7', '0', '19941'), ('The Little Mermaid', '7.2', '59                ', '123136'), ('Teenage Mutant Ninja Turtles: Mutant Mayhem', '7.3', '74                ', '32397'), ('Indiana Jones and the Dial of Destiny', '6.7', '58                ', '118824'), ('No Hard Feelings', '6.4', '59                ', '67244'), ('The Flash', '6.8', '55                ', '167412'), ('Bottoms', '7.6', '77                ', '4690'), ('Sound of Freedom', '7.9', '36                ', '55705'), ('Gran Turismo', '7.4', '48                ', '22148'), ('Meg 2: The Trench', '5.2', '40                ', '41150'), ('Spider-Man: Across the Spider-Verse', '8.7', '86                ', '256638'), ('Guardians of the Galaxy Vol. 3', '7.9', '64                ', '313994'), ('Justified: City Primeval', '7.5', '0', '10181'), ('Dungeons & Dragons: Honor Among Thieves', '7.3', '72                ', '180244'), ('Love Again', '5.8', '32                ', '8350'), ('The Boogeyman', '6.0', '55                ', '21691'), ('Past Lives', '8.1', '94                ', '20599'), ('Silo', '8.1', '0', '84324')]\n",
      "[('Oppenheimer', '8.6', '88                ', '428674'), ('Barbie', '7.2', '80                ', '299786'), ('Special Ops: Lioness', '7.7', '0', '19941'), ('The Little Mermaid', '7.2', '59                ', '123136'), ('Teenage Mutant Ninja Turtles: Mutant Mayhem', '7.3', '74                ', '32397'), ('Indiana Jones and the Dial of Destiny', '6.7', '58                ', '118824'), ('No Hard Feelings', '6.4', '59                ', '67244'), ('The Flash', '6.8', '55                ', '167412'), ('Bottoms', '7.6', '77                ', '4690'), ('Sound of Freedom', '7.9', '36                ', '55705'), ('Gran Turismo', '7.4', '48                ', '22148'), ('Meg 2: The Trench', '5.2', '40                ', '41150'), ('Spider-Man: Across the Spider-Verse', '8.7', '86                ', '256638'), ('Guardians of the Galaxy Vol. 3', '7.9', '64                ', '313994'), ('Justified: City Primeval', '7.5', '0', '10181'), ('Dungeons & Dragons: Honor Among Thieves', '7.3', '72                ', '180244'), ('Love Again', '5.8', '32                ', '8350'), ('The Boogeyman', '6.0', '55                ', '21691'), ('Past Lives', '8.1', '94                ', '20599'), ('Silo', '8.1', '0', '84324'), ('Killers of the Flower Moon', '0', '0', '0')]\n",
      "[('Oppenheimer', '8.6', '88                ', '428674'), ('Barbie', '7.2', '80                ', '299786'), ('Special Ops: Lioness', '7.7', '0', '19941'), ('The Little Mermaid', '7.2', '59                ', '123136'), ('Teenage Mutant Ninja Turtles: Mutant Mayhem', '7.3', '74                ', '32397'), ('Indiana Jones and the Dial of Destiny', '6.7', '58                ', '118824'), ('No Hard Feelings', '6.4', '59                ', '67244'), ('The Flash', '6.8', '55                ', '167412'), ('Bottoms', '7.6', '77                ', '4690'), ('Sound of Freedom', '7.9', '36                ', '55705'), ('Gran Turismo', '7.4', '48                ', '22148'), ('Meg 2: The Trench', '5.2', '40                ', '41150'), ('Spider-Man: Across the Spider-Verse', '8.7', '86                ', '256638'), ('Guardians of the Galaxy Vol. 3', '7.9', '64                ', '313994'), ('Justified: City Primeval', '7.5', '0', '10181'), ('Dungeons & Dragons: Honor Among Thieves', '7.3', '72                ', '180244'), ('Love Again', '5.8', '32                ', '8350'), ('The Boogeyman', '6.0', '55                ', '21691'), ('Past Lives', '8.1', '94                ', '20599'), ('Silo', '8.1', '0', '84324'), ('Killers of the Flower Moon', '0', '0', '0'), ('Mission: Impossible - Dead Reckoning Part One', '7.9', '81                ', '137654')]\n",
      "[('Oppenheimer', '8.6', '88                ', '428674'), ('Barbie', '7.2', '80                ', '299786'), ('Special Ops: Lioness', '7.7', '0', '19941'), ('The Little Mermaid', '7.2', '59                ', '123136'), ('Teenage Mutant Ninja Turtles: Mutant Mayhem', '7.3', '74                ', '32397'), ('Indiana Jones and the Dial of Destiny', '6.7', '58                ', '118824'), ('No Hard Feelings', '6.4', '59                ', '67244'), ('The Flash', '6.8', '55                ', '167412'), ('Bottoms', '7.6', '77                ', '4690'), ('Sound of Freedom', '7.9', '36                ', '55705'), ('Gran Turismo', '7.4', '48                ', '22148'), ('Meg 2: The Trench', '5.2', '40                ', '41150'), ('Spider-Man: Across the Spider-Verse', '8.7', '86                ', '256638'), ('Guardians of the Galaxy Vol. 3', '7.9', '64                ', '313994'), ('Justified: City Primeval', '7.5', '0', '10181'), ('Dungeons & Dragons: Honor Among Thieves', '7.3', '72                ', '180244'), ('Love Again', '5.8', '32                ', '8350'), ('The Boogeyman', '6.0', '55                ', '21691'), ('Past Lives', '8.1', '94                ', '20599'), ('Silo', '8.1', '0', '84324'), ('Killers of the Flower Moon', '0', '0', '0'), ('Mission: Impossible - Dead Reckoning Part One', '7.9', '81                ', '137654'), ('Asteroid City', '6.6', '75                ', '71595')]\n",
      "[('Oppenheimer', '8.6', '88                ', '428674'), ('Barbie', '7.2', '80                ', '299786'), ('Special Ops: Lioness', '7.7', '0', '19941'), ('The Little Mermaid', '7.2', '59                ', '123136'), ('Teenage Mutant Ninja Turtles: Mutant Mayhem', '7.3', '74                ', '32397'), ('Indiana Jones and the Dial of Destiny', '6.7', '58                ', '118824'), ('No Hard Feelings', '6.4', '59                ', '67244'), ('The Flash', '6.8', '55                ', '167412'), ('Bottoms', '7.6', '77                ', '4690'), ('Sound of Freedom', '7.9', '36                ', '55705'), ('Gran Turismo', '7.4', '48                ', '22148'), ('Meg 2: The Trench', '5.2', '40                ', '41150'), ('Spider-Man: Across the Spider-Verse', '8.7', '86                ', '256638'), ('Guardians of the Galaxy Vol. 3', '7.9', '64                ', '313994'), ('Justified: City Primeval', '7.5', '0', '10181'), ('Dungeons & Dragons: Honor Among Thieves', '7.3', '72                ', '180244'), ('Love Again', '5.8', '32                ', '8350'), ('The Boogeyman', '6.0', '55                ', '21691'), ('Past Lives', '8.1', '94                ', '20599'), ('Silo', '8.1', '0', '84324'), ('Killers of the Flower Moon', '0', '0', '0'), ('Mission: Impossible - Dead Reckoning Part One', '7.9', '81                ', '137654'), ('Asteroid City', '6.6', '75                ', '71595'), ('Hypnotic', '5.4', '53                ', '20661')]\n",
      "[('Oppenheimer', '8.6', '88                ', '428674'), ('Barbie', '7.2', '80                ', '299786'), ('Special Ops: Lioness', '7.7', '0', '19941'), ('The Little Mermaid', '7.2', '59                ', '123136'), ('Teenage Mutant Ninja Turtles: Mutant Mayhem', '7.3', '74                ', '32397'), ('Indiana Jones and the Dial of Destiny', '6.7', '58                ', '118824'), ('No Hard Feelings', '6.4', '59                ', '67244'), ('The Flash', '6.8', '55                ', '167412'), ('Bottoms', '7.6', '77                ', '4690'), ('Sound of Freedom', '7.9', '36                ', '55705'), ('Gran Turismo', '7.4', '48                ', '22148'), ('Meg 2: The Trench', '5.2', '40                ', '41150'), ('Spider-Man: Across the Spider-Verse', '8.7', '86                ', '256638'), ('Guardians of the Galaxy Vol. 3', '7.9', '64                ', '313994'), ('Justified: City Primeval', '7.5', '0', '10181'), ('Dungeons & Dragons: Honor Among Thieves', '7.3', '72                ', '180244'), ('Love Again', '5.8', '32                ', '8350'), ('The Boogeyman', '6.0', '55                ', '21691'), ('Past Lives', '8.1', '94                ', '20599'), ('Silo', '8.1', '0', '84324'), ('Killers of the Flower Moon', '0', '0', '0'), ('Mission: Impossible - Dead Reckoning Part One', '7.9', '81                ', '137654'), ('Asteroid City', '6.6', '75                ', '71595'), ('Hypnotic', '5.4', '53                ', '20661'), ('The Super Mario Bros. Movie', '7.1', '46                ', '190832')]\n",
      "[('Oppenheimer', '8.6', '88                ', '428674'), ('Barbie', '7.2', '80                ', '299786'), ('Special Ops: Lioness', '7.7', '0', '19941'), ('The Little Mermaid', '7.2', '59                ', '123136'), ('Teenage Mutant Ninja Turtles: Mutant Mayhem', '7.3', '74                ', '32397'), ('Indiana Jones and the Dial of Destiny', '6.7', '58                ', '118824'), ('No Hard Feelings', '6.4', '59                ', '67244'), ('The Flash', '6.8', '55                ', '167412'), ('Bottoms', '7.6', '77                ', '4690'), ('Sound of Freedom', '7.9', '36                ', '55705'), ('Gran Turismo', '7.4', '48                ', '22148'), ('Meg 2: The Trench', '5.2', '40                ', '41150'), ('Spider-Man: Across the Spider-Verse', '8.7', '86                ', '256638'), ('Guardians of the Galaxy Vol. 3', '7.9', '64                ', '313994'), ('Justified: City Primeval', '7.5', '0', '10181'), ('Dungeons & Dragons: Honor Among Thieves', '7.3', '72                ', '180244'), ('Love Again', '5.8', '32                ', '8350'), ('The Boogeyman', '6.0', '55                ', '21691'), ('Past Lives', '8.1', '94                ', '20599'), ('Silo', '8.1', '0', '84324'), ('Killers of the Flower Moon', '0', '0', '0'), ('Mission: Impossible - Dead Reckoning Part One', '7.9', '81                ', '137654'), ('Asteroid City', '6.6', '75                ', '71595'), ('Hypnotic', '5.4', '53                ', '20661'), ('The Super Mario Bros. Movie', '7.1', '46                ', '190832'), ('Hijack', '7.4', '0', '49471')]\n",
      "[('Oppenheimer', '8.6', '88                ', '428674'), ('Barbie', '7.2', '80                ', '299786'), ('Special Ops: Lioness', '7.7', '0', '19941'), ('The Little Mermaid', '7.2', '59                ', '123136'), ('Teenage Mutant Ninja Turtles: Mutant Mayhem', '7.3', '74                ', '32397'), ('Indiana Jones and the Dial of Destiny', '6.7', '58                ', '118824'), ('No Hard Feelings', '6.4', '59                ', '67244'), ('The Flash', '6.8', '55                ', '167412'), ('Bottoms', '7.6', '77                ', '4690'), ('Sound of Freedom', '7.9', '36                ', '55705'), ('Gran Turismo', '7.4', '48                ', '22148'), ('Meg 2: The Trench', '5.2', '40                ', '41150'), ('Spider-Man: Across the Spider-Verse', '8.7', '86                ', '256638'), ('Guardians of the Galaxy Vol. 3', '7.9', '64                ', '313994'), ('Justified: City Primeval', '7.5', '0', '10181'), ('Dungeons & Dragons: Honor Among Thieves', '7.3', '72                ', '180244'), ('Love Again', '5.8', '32                ', '8350'), ('The Boogeyman', '6.0', '55                ', '21691'), ('Past Lives', '8.1', '94                ', '20599'), ('Silo', '8.1', '0', '84324'), ('Killers of the Flower Moon', '0', '0', '0'), ('Mission: Impossible - Dead Reckoning Part One', '7.9', '81                ', '137654'), ('Asteroid City', '6.6', '75                ', '71595'), ('Hypnotic', '5.4', '53                ', '20661'), ('The Super Mario Bros. Movie', '7.1', '46                ', '190832'), ('Hijack', '7.4', '0', '49471'), ('Elemental', '7.0', '58                ', '51844')]\n",
      "[('Oppenheimer', '8.6', '88                ', '428674'), ('Barbie', '7.2', '80                ', '299786'), ('Special Ops: Lioness', '7.7', '0', '19941'), ('The Little Mermaid', '7.2', '59                ', '123136'), ('Teenage Mutant Ninja Turtles: Mutant Mayhem', '7.3', '74                ', '32397'), ('Indiana Jones and the Dial of Destiny', '6.7', '58                ', '118824'), ('No Hard Feelings', '6.4', '59                ', '67244'), ('The Flash', '6.8', '55                ', '167412'), ('Bottoms', '7.6', '77                ', '4690'), ('Sound of Freedom', '7.9', '36                ', '55705'), ('Gran Turismo', '7.4', '48                ', '22148'), ('Meg 2: The Trench', '5.2', '40                ', '41150'), ('Spider-Man: Across the Spider-Verse', '8.7', '86                ', '256638'), ('Guardians of the Galaxy Vol. 3', '7.9', '64                ', '313994'), ('Justified: City Primeval', '7.5', '0', '10181'), ('Dungeons & Dragons: Honor Among Thieves', '7.3', '72                ', '180244'), ('Love Again', '5.8', '32                ', '8350'), ('The Boogeyman', '6.0', '55                ', '21691'), ('Past Lives', '8.1', '94                ', '20599'), ('Silo', '8.1', '0', '84324'), ('Killers of the Flower Moon', '0', '0', '0'), ('Mission: Impossible - Dead Reckoning Part One', '7.9', '81                ', '137654'), ('Asteroid City', '6.6', '75                ', '71595'), ('Hypnotic', '5.4', '53                ', '20661'), ('The Super Mario Bros. Movie', '7.1', '46                ', '190832'), ('Hijack', '7.4', '0', '49471'), ('Elemental', '7.0', '58                ', '51844'), ('The Last of Us', '8.8', '0', '455428')]\n",
      "[('Oppenheimer', '8.6', '88                ', '428674'), ('Barbie', '7.2', '80                ', '299786'), ('Special Ops: Lioness', '7.7', '0', '19941'), ('The Little Mermaid', '7.2', '59                ', '123136'), ('Teenage Mutant Ninja Turtles: Mutant Mayhem', '7.3', '74                ', '32397'), ('Indiana Jones and the Dial of Destiny', '6.7', '58                ', '118824'), ('No Hard Feelings', '6.4', '59                ', '67244'), ('The Flash', '6.8', '55                ', '167412'), ('Bottoms', '7.6', '77                ', '4690'), ('Sound of Freedom', '7.9', '36                ', '55705'), ('Gran Turismo', '7.4', '48                ', '22148'), ('Meg 2: The Trench', '5.2', '40                ', '41150'), ('Spider-Man: Across the Spider-Verse', '8.7', '86                ', '256638'), ('Guardians of the Galaxy Vol. 3', '7.9', '64                ', '313994'), ('Justified: City Primeval', '7.5', '0', '10181'), ('Dungeons & Dragons: Honor Among Thieves', '7.3', '72                ', '180244'), ('Love Again', '5.8', '32                ', '8350'), ('The Boogeyman', '6.0', '55                ', '21691'), ('Past Lives', '8.1', '94                ', '20599'), ('Silo', '8.1', '0', '84324'), ('Killers of the Flower Moon', '0', '0', '0'), ('Mission: Impossible - Dead Reckoning Part One', '7.9', '81                ', '137654'), ('Asteroid City', '6.6', '75                ', '71595'), ('Hypnotic', '5.4', '53                ', '20661'), ('The Super Mario Bros. Movie', '7.1', '46                ', '190832'), ('Hijack', '7.4', '0', '49471'), ('Elemental', '7.0', '58                ', '51844'), ('The Last of Us', '8.8', '0', '455428'), ('Twisted Metal', '7.4', '0', '16861')]\n",
      "[('Oppenheimer', '8.6', '88                ', '428674'), ('Barbie', '7.2', '80                ', '299786'), ('Special Ops: Lioness', '7.7', '0', '19941'), ('The Little Mermaid', '7.2', '59                ', '123136'), ('Teenage Mutant Ninja Turtles: Mutant Mayhem', '7.3', '74                ', '32397'), ('Indiana Jones and the Dial of Destiny', '6.7', '58                ', '118824'), ('No Hard Feelings', '6.4', '59                ', '67244'), ('The Flash', '6.8', '55                ', '167412'), ('Bottoms', '7.6', '77                ', '4690'), ('Sound of Freedom', '7.9', '36                ', '55705'), ('Gran Turismo', '7.4', '48                ', '22148'), ('Meg 2: The Trench', '5.2', '40                ', '41150'), ('Spider-Man: Across the Spider-Verse', '8.7', '86                ', '256638'), ('Guardians of the Galaxy Vol. 3', '7.9', '64                ', '313994'), ('Justified: City Primeval', '7.5', '0', '10181'), ('Dungeons & Dragons: Honor Among Thieves', '7.3', '72                ', '180244'), ('Love Again', '5.8', '32                ', '8350'), ('The Boogeyman', '6.0', '55                ', '21691'), ('Past Lives', '8.1', '94                ', '20599'), ('Silo', '8.1', '0', '84324'), ('Killers of the Flower Moon', '0', '0', '0'), ('Mission: Impossible - Dead Reckoning Part One', '7.9', '81                ', '137654'), ('Asteroid City', '6.6', '75                ', '71595'), ('Hypnotic', '5.4', '53                ', '20661'), ('The Super Mario Bros. Movie', '7.1', '46                ', '190832'), ('Hijack', '7.4', '0', '49471'), ('Elemental', '7.0', '58                ', '51844'), ('The Last of Us', '8.8', '0', '455428'), ('Twisted Metal', '7.4', '0', '16861'), ('Cobweb', '5.9', '50                ', '14234')]\n",
      "[('Oppenheimer', '8.6', '88                ', '428674'), ('Barbie', '7.2', '80                ', '299786'), ('Special Ops: Lioness', '7.7', '0', '19941'), ('The Little Mermaid', '7.2', '59                ', '123136'), ('Teenage Mutant Ninja Turtles: Mutant Mayhem', '7.3', '74                ', '32397'), ('Indiana Jones and the Dial of Destiny', '6.7', '58                ', '118824'), ('No Hard Feelings', '6.4', '59                ', '67244'), ('The Flash', '6.8', '55                ', '167412'), ('Bottoms', '7.6', '77                ', '4690'), ('Sound of Freedom', '7.9', '36                ', '55705'), ('Gran Turismo', '7.4', '48                ', '22148'), ('Meg 2: The Trench', '5.2', '40                ', '41150'), ('Spider-Man: Across the Spider-Verse', '8.7', '86                ', '256638'), ('Guardians of the Galaxy Vol. 3', '7.9', '64                ', '313994'), ('Justified: City Primeval', '7.5', '0', '10181'), ('Dungeons & Dragons: Honor Among Thieves', '7.3', '72                ', '180244'), ('Love Again', '5.8', '32                ', '8350'), ('The Boogeyman', '6.0', '55                ', '21691'), ('Past Lives', '8.1', '94                ', '20599'), ('Silo', '8.1', '0', '84324'), ('Killers of the Flower Moon', '0', '0', '0'), ('Mission: Impossible - Dead Reckoning Part One', '7.9', '81                ', '137654'), ('Asteroid City', '6.6', '75                ', '71595'), ('Hypnotic', '5.4', '53                ', '20661'), ('The Super Mario Bros. Movie', '7.1', '46                ', '190832'), ('Hijack', '7.4', '0', '49471'), ('Elemental', '7.0', '58                ', '51844'), ('The Last of Us', '8.8', '0', '455428'), ('Twisted Metal', '7.4', '0', '16861'), ('Cobweb', '5.9', '50                ', '14234'), ('John Wick: Chapter 4', '7.8', '78                ', '272663')]\n",
      "[('Oppenheimer', '8.6', '88                ', '428674'), ('Barbie', '7.2', '80                ', '299786'), ('Special Ops: Lioness', '7.7', '0', '19941'), ('The Little Mermaid', '7.2', '59                ', '123136'), ('Teenage Mutant Ninja Turtles: Mutant Mayhem', '7.3', '74                ', '32397'), ('Indiana Jones and the Dial of Destiny', '6.7', '58                ', '118824'), ('No Hard Feelings', '6.4', '59                ', '67244'), ('The Flash', '6.8', '55                ', '167412'), ('Bottoms', '7.6', '77                ', '4690'), ('Sound of Freedom', '7.9', '36                ', '55705'), ('Gran Turismo', '7.4', '48                ', '22148'), ('Meg 2: The Trench', '5.2', '40                ', '41150'), ('Spider-Man: Across the Spider-Verse', '8.7', '86                ', '256638'), ('Guardians of the Galaxy Vol. 3', '7.9', '64                ', '313994'), ('Justified: City Primeval', '7.5', '0', '10181'), ('Dungeons & Dragons: Honor Among Thieves', '7.3', '72                ', '180244'), ('Love Again', '5.8', '32                ', '8350'), ('The Boogeyman', '6.0', '55                ', '21691'), ('Past Lives', '8.1', '94                ', '20599'), ('Silo', '8.1', '0', '84324'), ('Killers of the Flower Moon', '0', '0', '0'), ('Mission: Impossible - Dead Reckoning Part One', '7.9', '81                ', '137654'), ('Asteroid City', '6.6', '75                ', '71595'), ('Hypnotic', '5.4', '53                ', '20661'), ('The Super Mario Bros. Movie', '7.1', '46                ', '190832'), ('Hijack', '7.4', '0', '49471'), ('Elemental', '7.0', '58                ', '51844'), ('The Last of Us', '8.8', '0', '455428'), ('Twisted Metal', '7.4', '0', '16861'), ('Cobweb', '5.9', '50                ', '14234'), ('John Wick: Chapter 4', '7.8', '78                ', '272663'), (\"The Pope's Exorcist\", '6.1', '45                ', '61566')]\n",
      "[('Oppenheimer', '8.6', '88                ', '428674'), ('Barbie', '7.2', '80                ', '299786'), ('Special Ops: Lioness', '7.7', '0', '19941'), ('The Little Mermaid', '7.2', '59                ', '123136'), ('Teenage Mutant Ninja Turtles: Mutant Mayhem', '7.3', '74                ', '32397'), ('Indiana Jones and the Dial of Destiny', '6.7', '58                ', '118824'), ('No Hard Feelings', '6.4', '59                ', '67244'), ('The Flash', '6.8', '55                ', '167412'), ('Bottoms', '7.6', '77                ', '4690'), ('Sound of Freedom', '7.9', '36                ', '55705'), ('Gran Turismo', '7.4', '48                ', '22148'), ('Meg 2: The Trench', '5.2', '40                ', '41150'), ('Spider-Man: Across the Spider-Verse', '8.7', '86                ', '256638'), ('Guardians of the Galaxy Vol. 3', '7.9', '64                ', '313994'), ('Justified: City Primeval', '7.5', '0', '10181'), ('Dungeons & Dragons: Honor Among Thieves', '7.3', '72                ', '180244'), ('Love Again', '5.8', '32                ', '8350'), ('The Boogeyman', '6.0', '55                ', '21691'), ('Past Lives', '8.1', '94                ', '20599'), ('Silo', '8.1', '0', '84324'), ('Killers of the Flower Moon', '0', '0', '0'), ('Mission: Impossible - Dead Reckoning Part One', '7.9', '81                ', '137654'), ('Asteroid City', '6.6', '75                ', '71595'), ('Hypnotic', '5.4', '53                ', '20661'), ('The Super Mario Bros. Movie', '7.1', '46                ', '190832'), ('Hijack', '7.4', '0', '49471'), ('Elemental', '7.0', '58                ', '51844'), ('The Last of Us', '8.8', '0', '455428'), ('Twisted Metal', '7.4', '0', '16861'), ('Cobweb', '5.9', '50                ', '14234'), ('John Wick: Chapter 4', '7.8', '78                ', '272663'), (\"The Pope's Exorcist\", '6.1', '45                ', '61566'), ('Champions', '6.7', '50                ', '18604')]\n",
      "[('Oppenheimer', '8.6', '88                ', '428674'), ('Barbie', '7.2', '80                ', '299786'), ('Special Ops: Lioness', '7.7', '0', '19941'), ('The Little Mermaid', '7.2', '59                ', '123136'), ('Teenage Mutant Ninja Turtles: Mutant Mayhem', '7.3', '74                ', '32397'), ('Indiana Jones and the Dial of Destiny', '6.7', '58                ', '118824'), ('No Hard Feelings', '6.4', '59                ', '67244'), ('The Flash', '6.8', '55                ', '167412'), ('Bottoms', '7.6', '77                ', '4690'), ('Sound of Freedom', '7.9', '36                ', '55705'), ('Gran Turismo', '7.4', '48                ', '22148'), ('Meg 2: The Trench', '5.2', '40                ', '41150'), ('Spider-Man: Across the Spider-Verse', '8.7', '86                ', '256638'), ('Guardians of the Galaxy Vol. 3', '7.9', '64                ', '313994'), ('Justified: City Primeval', '7.5', '0', '10181'), ('Dungeons & Dragons: Honor Among Thieves', '7.3', '72                ', '180244'), ('Love Again', '5.8', '32                ', '8350'), ('The Boogeyman', '6.0', '55                ', '21691'), ('Past Lives', '8.1', '94                ', '20599'), ('Silo', '8.1', '0', '84324'), ('Killers of the Flower Moon', '0', '0', '0'), ('Mission: Impossible - Dead Reckoning Part One', '7.9', '81                ', '137654'), ('Asteroid City', '6.6', '75                ', '71595'), ('Hypnotic', '5.4', '53                ', '20661'), ('The Super Mario Bros. Movie', '7.1', '46                ', '190832'), ('Hijack', '7.4', '0', '49471'), ('Elemental', '7.0', '58                ', '51844'), ('The Last of Us', '8.8', '0', '455428'), ('Twisted Metal', '7.4', '0', '16861'), ('Cobweb', '5.9', '50                ', '14234'), ('John Wick: Chapter 4', '7.8', '78                ', '272663'), (\"The Pope's Exorcist\", '6.1', '45                ', '61566'), ('Champions', '6.7', '50                ', '18604'), ('Fast X', '5.8', '56                ', '92835')]\n",
      "[('Oppenheimer', '8.6', '88                ', '428674'), ('Barbie', '7.2', '80                ', '299786'), ('Special Ops: Lioness', '7.7', '0', '19941'), ('The Little Mermaid', '7.2', '59                ', '123136'), ('Teenage Mutant Ninja Turtles: Mutant Mayhem', '7.3', '74                ', '32397'), ('Indiana Jones and the Dial of Destiny', '6.7', '58                ', '118824'), ('No Hard Feelings', '6.4', '59                ', '67244'), ('The Flash', '6.8', '55                ', '167412'), ('Bottoms', '7.6', '77                ', '4690'), ('Sound of Freedom', '7.9', '36                ', '55705'), ('Gran Turismo', '7.4', '48                ', '22148'), ('Meg 2: The Trench', '5.2', '40                ', '41150'), ('Spider-Man: Across the Spider-Verse', '8.7', '86                ', '256638'), ('Guardians of the Galaxy Vol. 3', '7.9', '64                ', '313994'), ('Justified: City Primeval', '7.5', '0', '10181'), ('Dungeons & Dragons: Honor Among Thieves', '7.3', '72                ', '180244'), ('Love Again', '5.8', '32                ', '8350'), ('The Boogeyman', '6.0', '55                ', '21691'), ('Past Lives', '8.1', '94                ', '20599'), ('Silo', '8.1', '0', '84324'), ('Killers of the Flower Moon', '0', '0', '0'), ('Mission: Impossible - Dead Reckoning Part One', '7.9', '81                ', '137654'), ('Asteroid City', '6.6', '75                ', '71595'), ('Hypnotic', '5.4', '53                ', '20661'), ('The Super Mario Bros. Movie', '7.1', '46                ', '190832'), ('Hijack', '7.4', '0', '49471'), ('Elemental', '7.0', '58                ', '51844'), ('The Last of Us', '8.8', '0', '455428'), ('Twisted Metal', '7.4', '0', '16861'), ('Cobweb', '5.9', '50                ', '14234'), ('John Wick: Chapter 4', '7.8', '78                ', '272663'), (\"The Pope's Exorcist\", '6.1', '45                ', '61566'), ('Champions', '6.7', '50                ', '18604'), ('Fast X', '5.8', '56                ', '92835'), ('Transformers: Rise of the Beasts', '6.1', '42                ', '79474')]\n",
      "[('Oppenheimer', '8.6', '88                ', '428674'), ('Barbie', '7.2', '80                ', '299786'), ('Special Ops: Lioness', '7.7', '0', '19941'), ('The Little Mermaid', '7.2', '59                ', '123136'), ('Teenage Mutant Ninja Turtles: Mutant Mayhem', '7.3', '74                ', '32397'), ('Indiana Jones and the Dial of Destiny', '6.7', '58                ', '118824'), ('No Hard Feelings', '6.4', '59                ', '67244'), ('The Flash', '6.8', '55                ', '167412'), ('Bottoms', '7.6', '77                ', '4690'), ('Sound of Freedom', '7.9', '36                ', '55705'), ('Gran Turismo', '7.4', '48                ', '22148'), ('Meg 2: The Trench', '5.2', '40                ', '41150'), ('Spider-Man: Across the Spider-Verse', '8.7', '86                ', '256638'), ('Guardians of the Galaxy Vol. 3', '7.9', '64                ', '313994'), ('Justified: City Primeval', '7.5', '0', '10181'), ('Dungeons & Dragons: Honor Among Thieves', '7.3', '72                ', '180244'), ('Love Again', '5.8', '32                ', '8350'), ('The Boogeyman', '6.0', '55                ', '21691'), ('Past Lives', '8.1', '94                ', '20599'), ('Silo', '8.1', '0', '84324'), ('Killers of the Flower Moon', '0', '0', '0'), ('Mission: Impossible - Dead Reckoning Part One', '7.9', '81                ', '137654'), ('Asteroid City', '6.6', '75                ', '71595'), ('Hypnotic', '5.4', '53                ', '20661'), ('The Super Mario Bros. Movie', '7.1', '46                ', '190832'), ('Hijack', '7.4', '0', '49471'), ('Elemental', '7.0', '58                ', '51844'), ('The Last of Us', '8.8', '0', '455428'), ('Twisted Metal', '7.4', '0', '16861'), ('Cobweb', '5.9', '50                ', '14234'), ('John Wick: Chapter 4', '7.8', '78                ', '272663'), (\"The Pope's Exorcist\", '6.1', '45                ', '61566'), ('Champions', '6.7', '50                ', '18604'), ('Fast X', '5.8', '56                ', '92835'), ('Transformers: Rise of the Beasts', '6.1', '42                ', '79474'), ('The Covenant', '7.5', '63                ', '116341')]\n",
      "[('Oppenheimer', '8.6', '88                ', '428674'), ('Barbie', '7.2', '80                ', '299786'), ('Special Ops: Lioness', '7.7', '0', '19941'), ('The Little Mermaid', '7.2', '59                ', '123136'), ('Teenage Mutant Ninja Turtles: Mutant Mayhem', '7.3', '74                ', '32397'), ('Indiana Jones and the Dial of Destiny', '6.7', '58                ', '118824'), ('No Hard Feelings', '6.4', '59                ', '67244'), ('The Flash', '6.8', '55                ', '167412'), ('Bottoms', '7.6', '77                ', '4690'), ('Sound of Freedom', '7.9', '36                ', '55705'), ('Gran Turismo', '7.4', '48                ', '22148'), ('Meg 2: The Trench', '5.2', '40                ', '41150'), ('Spider-Man: Across the Spider-Verse', '8.7', '86                ', '256638'), ('Guardians of the Galaxy Vol. 3', '7.9', '64                ', '313994'), ('Justified: City Primeval', '7.5', '0', '10181'), ('Dungeons & Dragons: Honor Among Thieves', '7.3', '72                ', '180244'), ('Love Again', '5.8', '32                ', '8350'), ('The Boogeyman', '6.0', '55                ', '21691'), ('Past Lives', '8.1', '94                ', '20599'), ('Silo', '8.1', '0', '84324'), ('Killers of the Flower Moon', '0', '0', '0'), ('Mission: Impossible - Dead Reckoning Part One', '7.9', '81                ', '137654'), ('Asteroid City', '6.6', '75                ', '71595'), ('Hypnotic', '5.4', '53                ', '20661'), ('The Super Mario Bros. Movie', '7.1', '46                ', '190832'), ('Hijack', '7.4', '0', '49471'), ('Elemental', '7.0', '58                ', '51844'), ('The Last of Us', '8.8', '0', '455428'), ('Twisted Metal', '7.4', '0', '16861'), ('Cobweb', '5.9', '50                ', '14234'), ('John Wick: Chapter 4', '7.8', '78                ', '272663'), (\"The Pope's Exorcist\", '6.1', '45                ', '61566'), ('Champions', '6.7', '50                ', '18604'), ('Fast X', '5.8', '56                ', '92835'), ('Transformers: Rise of the Beasts', '6.1', '42                ', '79474'), ('The Covenant', '7.5', '63                ', '116341'), ('The Crowded Room', '7.6', '0', '22287')]\n",
      "[('Oppenheimer', '8.6', '88                ', '428674'), ('Barbie', '7.2', '80                ', '299786'), ('Special Ops: Lioness', '7.7', '0', '19941'), ('The Little Mermaid', '7.2', '59                ', '123136'), ('Teenage Mutant Ninja Turtles: Mutant Mayhem', '7.3', '74                ', '32397'), ('Indiana Jones and the Dial of Destiny', '6.7', '58                ', '118824'), ('No Hard Feelings', '6.4', '59                ', '67244'), ('The Flash', '6.8', '55                ', '167412'), ('Bottoms', '7.6', '77                ', '4690'), ('Sound of Freedom', '7.9', '36                ', '55705'), ('Gran Turismo', '7.4', '48                ', '22148'), ('Meg 2: The Trench', '5.2', '40                ', '41150'), ('Spider-Man: Across the Spider-Verse', '8.7', '86                ', '256638'), ('Guardians of the Galaxy Vol. 3', '7.9', '64                ', '313994'), ('Justified: City Primeval', '7.5', '0', '10181'), ('Dungeons & Dragons: Honor Among Thieves', '7.3', '72                ', '180244'), ('Love Again', '5.8', '32                ', '8350'), ('The Boogeyman', '6.0', '55                ', '21691'), ('Past Lives', '8.1', '94                ', '20599'), ('Silo', '8.1', '0', '84324'), ('Killers of the Flower Moon', '0', '0', '0'), ('Mission: Impossible - Dead Reckoning Part One', '7.9', '81                ', '137654'), ('Asteroid City', '6.6', '75                ', '71595'), ('Hypnotic', '5.4', '53                ', '20661'), ('The Super Mario Bros. Movie', '7.1', '46                ', '190832'), ('Hijack', '7.4', '0', '49471'), ('Elemental', '7.0', '58                ', '51844'), ('The Last of Us', '8.8', '0', '455428'), ('Twisted Metal', '7.4', '0', '16861'), ('Cobweb', '5.9', '50                ', '14234'), ('John Wick: Chapter 4', '7.8', '78                ', '272663'), (\"The Pope's Exorcist\", '6.1', '45                ', '61566'), ('Champions', '6.7', '50                ', '18604'), ('Fast X', '5.8', '56                ', '92835'), ('Transformers: Rise of the Beasts', '6.1', '42                ', '79474'), ('The Covenant', '7.5', '63                ', '116341'), ('The Crowded Room', '7.6', '0', '22287'), ('Jury Duty', '8.3', '0', '35284')]\n",
      "[('Oppenheimer', '8.6', '88                ', '428674'), ('Barbie', '7.2', '80                ', '299786'), ('Special Ops: Lioness', '7.7', '0', '19941'), ('The Little Mermaid', '7.2', '59                ', '123136'), ('Teenage Mutant Ninja Turtles: Mutant Mayhem', '7.3', '74                ', '32397'), ('Indiana Jones and the Dial of Destiny', '6.7', '58                ', '118824'), ('No Hard Feelings', '6.4', '59                ', '67244'), ('The Flash', '6.8', '55                ', '167412'), ('Bottoms', '7.6', '77                ', '4690'), ('Sound of Freedom', '7.9', '36                ', '55705'), ('Gran Turismo', '7.4', '48                ', '22148'), ('Meg 2: The Trench', '5.2', '40                ', '41150'), ('Spider-Man: Across the Spider-Verse', '8.7', '86                ', '256638'), ('Guardians of the Galaxy Vol. 3', '7.9', '64                ', '313994'), ('Justified: City Primeval', '7.5', '0', '10181'), ('Dungeons & Dragons: Honor Among Thieves', '7.3', '72                ', '180244'), ('Love Again', '5.8', '32                ', '8350'), ('The Boogeyman', '6.0', '55                ', '21691'), ('Past Lives', '8.1', '94                ', '20599'), ('Silo', '8.1', '0', '84324'), ('Killers of the Flower Moon', '0', '0', '0'), ('Mission: Impossible - Dead Reckoning Part One', '7.9', '81                ', '137654'), ('Asteroid City', '6.6', '75                ', '71595'), ('Hypnotic', '5.4', '53                ', '20661'), ('The Super Mario Bros. Movie', '7.1', '46                ', '190832'), ('Hijack', '7.4', '0', '49471'), ('Elemental', '7.0', '58                ', '51844'), ('The Last of Us', '8.8', '0', '455428'), ('Twisted Metal', '7.4', '0', '16861'), ('Cobweb', '5.9', '50                ', '14234'), ('John Wick: Chapter 4', '7.8', '78                ', '272663'), (\"The Pope's Exorcist\", '6.1', '45                ', '61566'), ('Champions', '6.7', '50                ', '18604'), ('Fast X', '5.8', '56                ', '92835'), ('Transformers: Rise of the Beasts', '6.1', '42                ', '79474'), ('The Covenant', '7.5', '63                ', '116341'), ('The Crowded Room', '7.6', '0', '22287'), ('Jury Duty', '8.3', '0', '35284'), ('Birth/Rebirth', '6.2', '77                ', '1306')]\n",
      "[('Oppenheimer', '8.6', '88                ', '428674'), ('Barbie', '7.2', '80                ', '299786'), ('Special Ops: Lioness', '7.7', '0', '19941'), ('The Little Mermaid', '7.2', '59                ', '123136'), ('Teenage Mutant Ninja Turtles: Mutant Mayhem', '7.3', '74                ', '32397'), ('Indiana Jones and the Dial of Destiny', '6.7', '58                ', '118824'), ('No Hard Feelings', '6.4', '59                ', '67244'), ('The Flash', '6.8', '55                ', '167412'), ('Bottoms', '7.6', '77                ', '4690'), ('Sound of Freedom', '7.9', '36                ', '55705'), ('Gran Turismo', '7.4', '48                ', '22148'), ('Meg 2: The Trench', '5.2', '40                ', '41150'), ('Spider-Man: Across the Spider-Verse', '8.7', '86                ', '256638'), ('Guardians of the Galaxy Vol. 3', '7.9', '64                ', '313994'), ('Justified: City Primeval', '7.5', '0', '10181'), ('Dungeons & Dragons: Honor Among Thieves', '7.3', '72                ', '180244'), ('Love Again', '5.8', '32                ', '8350'), ('The Boogeyman', '6.0', '55                ', '21691'), ('Past Lives', '8.1', '94                ', '20599'), ('Silo', '8.1', '0', '84324'), ('Killers of the Flower Moon', '0', '0', '0'), ('Mission: Impossible - Dead Reckoning Part One', '7.9', '81                ', '137654'), ('Asteroid City', '6.6', '75                ', '71595'), ('Hypnotic', '5.4', '53                ', '20661'), ('The Super Mario Bros. Movie', '7.1', '46                ', '190832'), ('Hijack', '7.4', '0', '49471'), ('Elemental', '7.0', '58                ', '51844'), ('The Last of Us', '8.8', '0', '455428'), ('Twisted Metal', '7.4', '0', '16861'), ('Cobweb', '5.9', '50                ', '14234'), ('John Wick: Chapter 4', '7.8', '78                ', '272663'), (\"The Pope's Exorcist\", '6.1', '45                ', '61566'), ('Champions', '6.7', '50                ', '18604'), ('Fast X', '5.8', '56                ', '92835'), ('Transformers: Rise of the Beasts', '6.1', '42                ', '79474'), ('The Covenant', '7.5', '63                ', '116341'), ('The Crowded Room', '7.6', '0', '22287'), ('Jury Duty', '8.3', '0', '35284'), ('Birth/Rebirth', '6.2', '77                ', '1306'), ('Misanthrope', '6.6', '43                ', '24688')]\n",
      "[('Oppenheimer', '8.6', '88                ', '428674'), ('Barbie', '7.2', '80                ', '299786'), ('Special Ops: Lioness', '7.7', '0', '19941'), ('The Little Mermaid', '7.2', '59                ', '123136'), ('Teenage Mutant Ninja Turtles: Mutant Mayhem', '7.3', '74                ', '32397'), ('Indiana Jones and the Dial of Destiny', '6.7', '58                ', '118824'), ('No Hard Feelings', '6.4', '59                ', '67244'), ('The Flash', '6.8', '55                ', '167412'), ('Bottoms', '7.6', '77                ', '4690'), ('Sound of Freedom', '7.9', '36                ', '55705'), ('Gran Turismo', '7.4', '48                ', '22148'), ('Meg 2: The Trench', '5.2', '40                ', '41150'), ('Spider-Man: Across the Spider-Verse', '8.7', '86                ', '256638'), ('Guardians of the Galaxy Vol. 3', '7.9', '64                ', '313994'), ('Justified: City Primeval', '7.5', '0', '10181'), ('Dungeons & Dragons: Honor Among Thieves', '7.3', '72                ', '180244'), ('Love Again', '5.8', '32                ', '8350'), ('The Boogeyman', '6.0', '55                ', '21691'), ('Past Lives', '8.1', '94                ', '20599'), ('Silo', '8.1', '0', '84324'), ('Killers of the Flower Moon', '0', '0', '0'), ('Mission: Impossible - Dead Reckoning Part One', '7.9', '81                ', '137654'), ('Asteroid City', '6.6', '75                ', '71595'), ('Hypnotic', '5.4', '53                ', '20661'), ('The Super Mario Bros. Movie', '7.1', '46                ', '190832'), ('Hijack', '7.4', '0', '49471'), ('Elemental', '7.0', '58                ', '51844'), ('The Last of Us', '8.8', '0', '455428'), ('Twisted Metal', '7.4', '0', '16861'), ('Cobweb', '5.9', '50                ', '14234'), ('John Wick: Chapter 4', '7.8', '78                ', '272663'), (\"The Pope's Exorcist\", '6.1', '45                ', '61566'), ('Champions', '6.7', '50                ', '18604'), ('Fast X', '5.8', '56                ', '92835'), ('Transformers: Rise of the Beasts', '6.1', '42                ', '79474'), ('The Covenant', '7.5', '63                ', '116341'), ('The Crowded Room', '7.6', '0', '22287'), ('Jury Duty', '8.3', '0', '35284'), ('Birth/Rebirth', '6.2', '77                ', '1306'), ('Misanthrope', '6.6', '43                ', '24688'), ('The Pod Generation', '5.5', '60                ', '1229')]\n",
      "[('Oppenheimer', '8.6', '88                ', '428674'), ('Barbie', '7.2', '80                ', '299786'), ('Special Ops: Lioness', '7.7', '0', '19941'), ('The Little Mermaid', '7.2', '59                ', '123136'), ('Teenage Mutant Ninja Turtles: Mutant Mayhem', '7.3', '74                ', '32397'), ('Indiana Jones and the Dial of Destiny', '6.7', '58                ', '118824'), ('No Hard Feelings', '6.4', '59                ', '67244'), ('The Flash', '6.8', '55                ', '167412'), ('Bottoms', '7.6', '77                ', '4690'), ('Sound of Freedom', '7.9', '36                ', '55705'), ('Gran Turismo', '7.4', '48                ', '22148'), ('Meg 2: The Trench', '5.2', '40                ', '41150'), ('Spider-Man: Across the Spider-Verse', '8.7', '86                ', '256638'), ('Guardians of the Galaxy Vol. 3', '7.9', '64                ', '313994'), ('Justified: City Primeval', '7.5', '0', '10181'), ('Dungeons & Dragons: Honor Among Thieves', '7.3', '72                ', '180244'), ('Love Again', '5.8', '32                ', '8350'), ('The Boogeyman', '6.0', '55                ', '21691'), ('Past Lives', '8.1', '94                ', '20599'), ('Silo', '8.1', '0', '84324'), ('Killers of the Flower Moon', '0', '0', '0'), ('Mission: Impossible - Dead Reckoning Part One', '7.9', '81                ', '137654'), ('Asteroid City', '6.6', '75                ', '71595'), ('Hypnotic', '5.4', '53                ', '20661'), ('The Super Mario Bros. Movie', '7.1', '46                ', '190832'), ('Hijack', '7.4', '0', '49471'), ('Elemental', '7.0', '58                ', '51844'), ('The Last of Us', '8.8', '0', '455428'), ('Twisted Metal', '7.4', '0', '16861'), ('Cobweb', '5.9', '50                ', '14234'), ('John Wick: Chapter 4', '7.8', '78                ', '272663'), (\"The Pope's Exorcist\", '6.1', '45                ', '61566'), ('Champions', '6.7', '50                ', '18604'), ('Fast X', '5.8', '56                ', '92835'), ('Transformers: Rise of the Beasts', '6.1', '42                ', '79474'), ('The Covenant', '7.5', '63                ', '116341'), ('The Crowded Room', '7.6', '0', '22287'), ('Jury Duty', '8.3', '0', '35284'), ('Birth/Rebirth', '6.2', '77                ', '1306'), ('Misanthrope', '6.6', '43                ', '24688'), ('The Pod Generation', '5.5', '60                ', '1229'), ('Cocaine Bear', '5.9', '54                ', '89617')]\n",
      "[('Oppenheimer', '8.6', '88                ', '428674'), ('Barbie', '7.2', '80                ', '299786'), ('Special Ops: Lioness', '7.7', '0', '19941'), ('The Little Mermaid', '7.2', '59                ', '123136'), ('Teenage Mutant Ninja Turtles: Mutant Mayhem', '7.3', '74                ', '32397'), ('Indiana Jones and the Dial of Destiny', '6.7', '58                ', '118824'), ('No Hard Feelings', '6.4', '59                ', '67244'), ('The Flash', '6.8', '55                ', '167412'), ('Bottoms', '7.6', '77                ', '4690'), ('Sound of Freedom', '7.9', '36                ', '55705'), ('Gran Turismo', '7.4', '48                ', '22148'), ('Meg 2: The Trench', '5.2', '40                ', '41150'), ('Spider-Man: Across the Spider-Verse', '8.7', '86                ', '256638'), ('Guardians of the Galaxy Vol. 3', '7.9', '64                ', '313994'), ('Justified: City Primeval', '7.5', '0', '10181'), ('Dungeons & Dragons: Honor Among Thieves', '7.3', '72                ', '180244'), ('Love Again', '5.8', '32                ', '8350'), ('The Boogeyman', '6.0', '55                ', '21691'), ('Past Lives', '8.1', '94                ', '20599'), ('Silo', '8.1', '0', '84324'), ('Killers of the Flower Moon', '0', '0', '0'), ('Mission: Impossible - Dead Reckoning Part One', '7.9', '81                ', '137654'), ('Asteroid City', '6.6', '75                ', '71595'), ('Hypnotic', '5.4', '53                ', '20661'), ('The Super Mario Bros. Movie', '7.1', '46                ', '190832'), ('Hijack', '7.4', '0', '49471'), ('Elemental', '7.0', '58                ', '51844'), ('The Last of Us', '8.8', '0', '455428'), ('Twisted Metal', '7.4', '0', '16861'), ('Cobweb', '5.9', '50                ', '14234'), ('John Wick: Chapter 4', '7.8', '78                ', '272663'), (\"The Pope's Exorcist\", '6.1', '45                ', '61566'), ('Champions', '6.7', '50                ', '18604'), ('Fast X', '5.8', '56                ', '92835'), ('Transformers: Rise of the Beasts', '6.1', '42                ', '79474'), ('The Covenant', '7.5', '63                ', '116341'), ('The Crowded Room', '7.6', '0', '22287'), ('Jury Duty', '8.3', '0', '35284'), ('Birth/Rebirth', '6.2', '77                ', '1306'), ('Misanthrope', '6.6', '43                ', '24688'), ('The Pod Generation', '5.5', '60                ', '1229'), ('Cocaine Bear', '5.9', '54                ', '89617'), ('Evil Dead Rise', '6.6', '69                ', '111746')]\n",
      "[('Oppenheimer', '8.6', '88                ', '428674'), ('Barbie', '7.2', '80                ', '299786'), ('Special Ops: Lioness', '7.7', '0', '19941'), ('The Little Mermaid', '7.2', '59                ', '123136'), ('Teenage Mutant Ninja Turtles: Mutant Mayhem', '7.3', '74                ', '32397'), ('Indiana Jones and the Dial of Destiny', '6.7', '58                ', '118824'), ('No Hard Feelings', '6.4', '59                ', '67244'), ('The Flash', '6.8', '55                ', '167412'), ('Bottoms', '7.6', '77                ', '4690'), ('Sound of Freedom', '7.9', '36                ', '55705'), ('Gran Turismo', '7.4', '48                ', '22148'), ('Meg 2: The Trench', '5.2', '40                ', '41150'), ('Spider-Man: Across the Spider-Verse', '8.7', '86                ', '256638'), ('Guardians of the Galaxy Vol. 3', '7.9', '64                ', '313994'), ('Justified: City Primeval', '7.5', '0', '10181'), ('Dungeons & Dragons: Honor Among Thieves', '7.3', '72                ', '180244'), ('Love Again', '5.8', '32                ', '8350'), ('The Boogeyman', '6.0', '55                ', '21691'), ('Past Lives', '8.1', '94                ', '20599'), ('Silo', '8.1', '0', '84324'), ('Killers of the Flower Moon', '0', '0', '0'), ('Mission: Impossible - Dead Reckoning Part One', '7.9', '81                ', '137654'), ('Asteroid City', '6.6', '75                ', '71595'), ('Hypnotic', '5.4', '53                ', '20661'), ('The Super Mario Bros. Movie', '7.1', '46                ', '190832'), ('Hijack', '7.4', '0', '49471'), ('Elemental', '7.0', '58                ', '51844'), ('The Last of Us', '8.8', '0', '455428'), ('Twisted Metal', '7.4', '0', '16861'), ('Cobweb', '5.9', '50                ', '14234'), ('John Wick: Chapter 4', '7.8', '78                ', '272663'), (\"The Pope's Exorcist\", '6.1', '45                ', '61566'), ('Champions', '6.7', '50                ', '18604'), ('Fast X', '5.8', '56                ', '92835'), ('Transformers: Rise of the Beasts', '6.1', '42                ', '79474'), ('The Covenant', '7.5', '63                ', '116341'), ('The Crowded Room', '7.6', '0', '22287'), ('Jury Duty', '8.3', '0', '35284'), ('Birth/Rebirth', '6.2', '77                ', '1306'), ('Misanthrope', '6.6', '43                ', '24688'), ('The Pod Generation', '5.5', '60                ', '1229'), ('Cocaine Bear', '5.9', '54                ', '89617'), ('Evil Dead Rise', '6.6', '69                ', '111746'), ('Culpa mía', '6.2', '0', '17527')]\n",
      "[('Oppenheimer', '8.6', '88                ', '428674'), ('Barbie', '7.2', '80                ', '299786'), ('Special Ops: Lioness', '7.7', '0', '19941'), ('The Little Mermaid', '7.2', '59                ', '123136'), ('Teenage Mutant Ninja Turtles: Mutant Mayhem', '7.3', '74                ', '32397'), ('Indiana Jones and the Dial of Destiny', '6.7', '58                ', '118824'), ('No Hard Feelings', '6.4', '59                ', '67244'), ('The Flash', '6.8', '55                ', '167412'), ('Bottoms', '7.6', '77                ', '4690'), ('Sound of Freedom', '7.9', '36                ', '55705'), ('Gran Turismo', '7.4', '48                ', '22148'), ('Meg 2: The Trench', '5.2', '40                ', '41150'), ('Spider-Man: Across the Spider-Verse', '8.7', '86                ', '256638'), ('Guardians of the Galaxy Vol. 3', '7.9', '64                ', '313994'), ('Justified: City Primeval', '7.5', '0', '10181'), ('Dungeons & Dragons: Honor Among Thieves', '7.3', '72                ', '180244'), ('Love Again', '5.8', '32                ', '8350'), ('The Boogeyman', '6.0', '55                ', '21691'), ('Past Lives', '8.1', '94                ', '20599'), ('Silo', '8.1', '0', '84324'), ('Killers of the Flower Moon', '0', '0', '0'), ('Mission: Impossible - Dead Reckoning Part One', '7.9', '81                ', '137654'), ('Asteroid City', '6.6', '75                ', '71595'), ('Hypnotic', '5.4', '53                ', '20661'), ('The Super Mario Bros. Movie', '7.1', '46                ', '190832'), ('Hijack', '7.4', '0', '49471'), ('Elemental', '7.0', '58                ', '51844'), ('The Last of Us', '8.8', '0', '455428'), ('Twisted Metal', '7.4', '0', '16861'), ('Cobweb', '5.9', '50                ', '14234'), ('John Wick: Chapter 4', '7.8', '78                ', '272663'), (\"The Pope's Exorcist\", '6.1', '45                ', '61566'), ('Champions', '6.7', '50                ', '18604'), ('Fast X', '5.8', '56                ', '92835'), ('Transformers: Rise of the Beasts', '6.1', '42                ', '79474'), ('The Covenant', '7.5', '63                ', '116341'), ('The Crowded Room', '7.6', '0', '22287'), ('Jury Duty', '8.3', '0', '35284'), ('Birth/Rebirth', '6.2', '77                ', '1306'), ('Misanthrope', '6.6', '43                ', '24688'), ('The Pod Generation', '5.5', '60                ', '1229'), ('Cocaine Bear', '5.9', '54                ', '89617'), ('Evil Dead Rise', '6.6', '69                ', '111746'), ('Culpa mía', '6.2', '0', '17527'), ('Kimitachi wa dô ikiru ka', '7.7', '89                ', '941')]\n",
      "[('Oppenheimer', '8.6', '88                ', '428674'), ('Barbie', '7.2', '80                ', '299786'), ('Special Ops: Lioness', '7.7', '0', '19941'), ('The Little Mermaid', '7.2', '59                ', '123136'), ('Teenage Mutant Ninja Turtles: Mutant Mayhem', '7.3', '74                ', '32397'), ('Indiana Jones and the Dial of Destiny', '6.7', '58                ', '118824'), ('No Hard Feelings', '6.4', '59                ', '67244'), ('The Flash', '6.8', '55                ', '167412'), ('Bottoms', '7.6', '77                ', '4690'), ('Sound of Freedom', '7.9', '36                ', '55705'), ('Gran Turismo', '7.4', '48                ', '22148'), ('Meg 2: The Trench', '5.2', '40                ', '41150'), ('Spider-Man: Across the Spider-Verse', '8.7', '86                ', '256638'), ('Guardians of the Galaxy Vol. 3', '7.9', '64                ', '313994'), ('Justified: City Primeval', '7.5', '0', '10181'), ('Dungeons & Dragons: Honor Among Thieves', '7.3', '72                ', '180244'), ('Love Again', '5.8', '32                ', '8350'), ('The Boogeyman', '6.0', '55                ', '21691'), ('Past Lives', '8.1', '94                ', '20599'), ('Silo', '8.1', '0', '84324'), ('Killers of the Flower Moon', '0', '0', '0'), ('Mission: Impossible - Dead Reckoning Part One', '7.9', '81                ', '137654'), ('Asteroid City', '6.6', '75                ', '71595'), ('Hypnotic', '5.4', '53                ', '20661'), ('The Super Mario Bros. Movie', '7.1', '46                ', '190832'), ('Hijack', '7.4', '0', '49471'), ('Elemental', '7.0', '58                ', '51844'), ('The Last of Us', '8.8', '0', '455428'), ('Twisted Metal', '7.4', '0', '16861'), ('Cobweb', '5.9', '50                ', '14234'), ('John Wick: Chapter 4', '7.8', '78                ', '272663'), (\"The Pope's Exorcist\", '6.1', '45                ', '61566'), ('Champions', '6.7', '50                ', '18604'), ('Fast X', '5.8', '56                ', '92835'), ('Transformers: Rise of the Beasts', '6.1', '42                ', '79474'), ('The Covenant', '7.5', '63                ', '116341'), ('The Crowded Room', '7.6', '0', '22287'), ('Jury Duty', '8.3', '0', '35284'), ('Birth/Rebirth', '6.2', '77                ', '1306'), ('Misanthrope', '6.6', '43                ', '24688'), ('The Pod Generation', '5.5', '60                ', '1229'), ('Cocaine Bear', '5.9', '54                ', '89617'), ('Evil Dead Rise', '6.6', '69                ', '111746'), ('Culpa mía', '6.2', '0', '17527'), ('Kimitachi wa dô ikiru ka', '7.7', '89                ', '941'), ('Scream VI', '6.5', '61                ', '99646')]\n",
      "[('Oppenheimer', '8.6', '88                ', '428674'), ('Barbie', '7.2', '80                ', '299786'), ('Special Ops: Lioness', '7.7', '0', '19941'), ('The Little Mermaid', '7.2', '59                ', '123136'), ('Teenage Mutant Ninja Turtles: Mutant Mayhem', '7.3', '74                ', '32397'), ('Indiana Jones and the Dial of Destiny', '6.7', '58                ', '118824'), ('No Hard Feelings', '6.4', '59                ', '67244'), ('The Flash', '6.8', '55                ', '167412'), ('Bottoms', '7.6', '77                ', '4690'), ('Sound of Freedom', '7.9', '36                ', '55705'), ('Gran Turismo', '7.4', '48                ', '22148'), ('Meg 2: The Trench', '5.2', '40                ', '41150'), ('Spider-Man: Across the Spider-Verse', '8.7', '86                ', '256638'), ('Guardians of the Galaxy Vol. 3', '7.9', '64                ', '313994'), ('Justified: City Primeval', '7.5', '0', '10181'), ('Dungeons & Dragons: Honor Among Thieves', '7.3', '72                ', '180244'), ('Love Again', '5.8', '32                ', '8350'), ('The Boogeyman', '6.0', '55                ', '21691'), ('Past Lives', '8.1', '94                ', '20599'), ('Silo', '8.1', '0', '84324'), ('Killers of the Flower Moon', '0', '0', '0'), ('Mission: Impossible - Dead Reckoning Part One', '7.9', '81                ', '137654'), ('Asteroid City', '6.6', '75                ', '71595'), ('Hypnotic', '5.4', '53                ', '20661'), ('The Super Mario Bros. Movie', '7.1', '46                ', '190832'), ('Hijack', '7.4', '0', '49471'), ('Elemental', '7.0', '58                ', '51844'), ('The Last of Us', '8.8', '0', '455428'), ('Twisted Metal', '7.4', '0', '16861'), ('Cobweb', '5.9', '50                ', '14234'), ('John Wick: Chapter 4', '7.8', '78                ', '272663'), (\"The Pope's Exorcist\", '6.1', '45                ', '61566'), ('Champions', '6.7', '50                ', '18604'), ('Fast X', '5.8', '56                ', '92835'), ('Transformers: Rise of the Beasts', '6.1', '42                ', '79474'), ('The Covenant', '7.5', '63                ', '116341'), ('The Crowded Room', '7.6', '0', '22287'), ('Jury Duty', '8.3', '0', '35284'), ('Birth/Rebirth', '6.2', '77                ', '1306'), ('Misanthrope', '6.6', '43                ', '24688'), ('The Pod Generation', '5.5', '60                ', '1229'), ('Cocaine Bear', '5.9', '54                ', '89617'), ('Evil Dead Rise', '6.6', '69                ', '111746'), ('Culpa mía', '6.2', '0', '17527'), ('Kimitachi wa dô ikiru ka', '7.7', '89                ', '941'), ('Scream VI', '6.5', '61                ', '99646'), ('Haunted Mansion', '6.2', '47                ', '12441')]\n",
      "[('Oppenheimer', '8.6', '88                ', '428674'), ('Barbie', '7.2', '80                ', '299786'), ('Special Ops: Lioness', '7.7', '0', '19941'), ('The Little Mermaid', '7.2', '59                ', '123136'), ('Teenage Mutant Ninja Turtles: Mutant Mayhem', '7.3', '74                ', '32397'), ('Indiana Jones and the Dial of Destiny', '6.7', '58                ', '118824'), ('No Hard Feelings', '6.4', '59                ', '67244'), ('The Flash', '6.8', '55                ', '167412'), ('Bottoms', '7.6', '77                ', '4690'), ('Sound of Freedom', '7.9', '36                ', '55705'), ('Gran Turismo', '7.4', '48                ', '22148'), ('Meg 2: The Trench', '5.2', '40                ', '41150'), ('Spider-Man: Across the Spider-Verse', '8.7', '86                ', '256638'), ('Guardians of the Galaxy Vol. 3', '7.9', '64                ', '313994'), ('Justified: City Primeval', '7.5', '0', '10181'), ('Dungeons & Dragons: Honor Among Thieves', '7.3', '72                ', '180244'), ('Love Again', '5.8', '32                ', '8350'), ('The Boogeyman', '6.0', '55                ', '21691'), ('Past Lives', '8.1', '94                ', '20599'), ('Silo', '8.1', '0', '84324'), ('Killers of the Flower Moon', '0', '0', '0'), ('Mission: Impossible - Dead Reckoning Part One', '7.9', '81                ', '137654'), ('Asteroid City', '6.6', '75                ', '71595'), ('Hypnotic', '5.4', '53                ', '20661'), ('The Super Mario Bros. Movie', '7.1', '46                ', '190832'), ('Hijack', '7.4', '0', '49471'), ('Elemental', '7.0', '58                ', '51844'), ('The Last of Us', '8.8', '0', '455428'), ('Twisted Metal', '7.4', '0', '16861'), ('Cobweb', '5.9', '50                ', '14234'), ('John Wick: Chapter 4', '7.8', '78                ', '272663'), (\"The Pope's Exorcist\", '6.1', '45                ', '61566'), ('Champions', '6.7', '50                ', '18604'), ('Fast X', '5.8', '56                ', '92835'), ('Transformers: Rise of the Beasts', '6.1', '42                ', '79474'), ('The Covenant', '7.5', '63                ', '116341'), ('The Crowded Room', '7.6', '0', '22287'), ('Jury Duty', '8.3', '0', '35284'), ('Birth/Rebirth', '6.2', '77                ', '1306'), ('Misanthrope', '6.6', '43                ', '24688'), ('The Pod Generation', '5.5', '60                ', '1229'), ('Cocaine Bear', '5.9', '54                ', '89617'), ('Evil Dead Rise', '6.6', '69                ', '111746'), ('Culpa mía', '6.2', '0', '17527'), ('Kimitachi wa dô ikiru ka', '7.7', '89                ', '941'), ('Scream VI', '6.5', '61                ', '99646'), ('Haunted Mansion', '6.2', '47                ', '12441'), ('Secret Invasion', '6.0', '0', '61424')]\n",
      "[('Oppenheimer', '8.6', '88                ', '428674'), ('Barbie', '7.2', '80                ', '299786'), ('Special Ops: Lioness', '7.7', '0', '19941'), ('The Little Mermaid', '7.2', '59                ', '123136'), ('Teenage Mutant Ninja Turtles: Mutant Mayhem', '7.3', '74                ', '32397'), ('Indiana Jones and the Dial of Destiny', '6.7', '58                ', '118824'), ('No Hard Feelings', '6.4', '59                ', '67244'), ('The Flash', '6.8', '55                ', '167412'), ('Bottoms', '7.6', '77                ', '4690'), ('Sound of Freedom', '7.9', '36                ', '55705'), ('Gran Turismo', '7.4', '48                ', '22148'), ('Meg 2: The Trench', '5.2', '40                ', '41150'), ('Spider-Man: Across the Spider-Verse', '8.7', '86                ', '256638'), ('Guardians of the Galaxy Vol. 3', '7.9', '64                ', '313994'), ('Justified: City Primeval', '7.5', '0', '10181'), ('Dungeons & Dragons: Honor Among Thieves', '7.3', '72                ', '180244'), ('Love Again', '5.8', '32                ', '8350'), ('The Boogeyman', '6.0', '55                ', '21691'), ('Past Lives', '8.1', '94                ', '20599'), ('Silo', '8.1', '0', '84324'), ('Killers of the Flower Moon', '0', '0', '0'), ('Mission: Impossible - Dead Reckoning Part One', '7.9', '81                ', '137654'), ('Asteroid City', '6.6', '75                ', '71595'), ('Hypnotic', '5.4', '53                ', '20661'), ('The Super Mario Bros. Movie', '7.1', '46                ', '190832'), ('Hijack', '7.4', '0', '49471'), ('Elemental', '7.0', '58                ', '51844'), ('The Last of Us', '8.8', '0', '455428'), ('Twisted Metal', '7.4', '0', '16861'), ('Cobweb', '5.9', '50                ', '14234'), ('John Wick: Chapter 4', '7.8', '78                ', '272663'), (\"The Pope's Exorcist\", '6.1', '45                ', '61566'), ('Champions', '6.7', '50                ', '18604'), ('Fast X', '5.8', '56                ', '92835'), ('Transformers: Rise of the Beasts', '6.1', '42                ', '79474'), ('The Covenant', '7.5', '63                ', '116341'), ('The Crowded Room', '7.6', '0', '22287'), ('Jury Duty', '8.3', '0', '35284'), ('Birth/Rebirth', '6.2', '77                ', '1306'), ('Misanthrope', '6.6', '43                ', '24688'), ('The Pod Generation', '5.5', '60                ', '1229'), ('Cocaine Bear', '5.9', '54                ', '89617'), ('Evil Dead Rise', '6.6', '69                ', '111746'), ('Culpa mía', '6.2', '0', '17527'), ('Kimitachi wa dô ikiru ka', '7.7', '89                ', '941'), ('Scream VI', '6.5', '61                ', '99646'), ('Haunted Mansion', '6.2', '47                ', '12441'), ('Secret Invasion', '6.0', '0', '61424'), ('The Walking Dead: Dead City', '7.3', '0', '13170')]\n",
      "[('Oppenheimer', '8.6', '88                ', '428674'), ('Barbie', '7.2', '80                ', '299786'), ('Special Ops: Lioness', '7.7', '0', '19941'), ('The Little Mermaid', '7.2', '59                ', '123136'), ('Teenage Mutant Ninja Turtles: Mutant Mayhem', '7.3', '74                ', '32397'), ('Indiana Jones and the Dial of Destiny', '6.7', '58                ', '118824'), ('No Hard Feelings', '6.4', '59                ', '67244'), ('The Flash', '6.8', '55                ', '167412'), ('Bottoms', '7.6', '77                ', '4690'), ('Sound of Freedom', '7.9', '36                ', '55705'), ('Gran Turismo', '7.4', '48                ', '22148'), ('Meg 2: The Trench', '5.2', '40                ', '41150'), ('Spider-Man: Across the Spider-Verse', '8.7', '86                ', '256638'), ('Guardians of the Galaxy Vol. 3', '7.9', '64                ', '313994'), ('Justified: City Primeval', '7.5', '0', '10181'), ('Dungeons & Dragons: Honor Among Thieves', '7.3', '72                ', '180244'), ('Love Again', '5.8', '32                ', '8350'), ('The Boogeyman', '6.0', '55                ', '21691'), ('Past Lives', '8.1', '94                ', '20599'), ('Silo', '8.1', '0', '84324'), ('Killers of the Flower Moon', '0', '0', '0'), ('Mission: Impossible - Dead Reckoning Part One', '7.9', '81                ', '137654'), ('Asteroid City', '6.6', '75                ', '71595'), ('Hypnotic', '5.4', '53                ', '20661'), ('The Super Mario Bros. Movie', '7.1', '46                ', '190832'), ('Hijack', '7.4', '0', '49471'), ('Elemental', '7.0', '58                ', '51844'), ('The Last of Us', '8.8', '0', '455428'), ('Twisted Metal', '7.4', '0', '16861'), ('Cobweb', '5.9', '50                ', '14234'), ('John Wick: Chapter 4', '7.8', '78                ', '272663'), (\"The Pope's Exorcist\", '6.1', '45                ', '61566'), ('Champions', '6.7', '50                ', '18604'), ('Fast X', '5.8', '56                ', '92835'), ('Transformers: Rise of the Beasts', '6.1', '42                ', '79474'), ('The Covenant', '7.5', '63                ', '116341'), ('The Crowded Room', '7.6', '0', '22287'), ('Jury Duty', '8.3', '0', '35284'), ('Birth/Rebirth', '6.2', '77                ', '1306'), ('Misanthrope', '6.6', '43                ', '24688'), ('The Pod Generation', '5.5', '60                ', '1229'), ('Cocaine Bear', '5.9', '54                ', '89617'), ('Evil Dead Rise', '6.6', '69                ', '111746'), ('Culpa mía', '6.2', '0', '17527'), ('Kimitachi wa dô ikiru ka', '7.7', '89                ', '941'), ('Scream VI', '6.5', '61                ', '99646'), ('Haunted Mansion', '6.2', '47                ', '12441'), ('Secret Invasion', '6.0', '0', '61424'), ('The Walking Dead: Dead City', '7.3', '0', '13170'), ('Beau Is Afraid', '6.8', '63                ', '40525')]\n"
     ]
    }
   ],
   "source": [
    "temp = [] #init\n",
    "items = soup.find_all('div', class_='lister-item-content')\n",
    "for item in items:\n",
    "    \n",
    "    #Pengambilan title film\n",
    "    title = item.find('h3', class_='lister-item-header').a.text\n",
    "        \n",
    "    #Pengambilan data kolom IMDB Rating & Pengolahan     \n",
    "    imdb_rating_a = item.find('div', class_='ratings-bar')\n",
    "    imdb_rating = imdb_rating_a.strong.text if imdb_rating_a and imdb_rating_a.strong else '0'\n",
    "        \n",
    "    #Pengambilan data kolom Metascore & Pengolahan       \n",
    "    metascore_a = item.find('div', class_='inline-block ratings-metascore')\n",
    "    metascore = metascore_a.text.strip() if metascore_a else '0'\n",
    "    metascore = metascore.replace(\"\\n\", \"\")\n",
    "    metascore = metascore.replace(\"Metascore\", \"\") \n",
    "        \n",
    "    #Pengambilan data kolom Vote & Pengolahan   \n",
    "    votes_a = item.find('span', attrs={'name': 'nv'})\n",
    "    votes = votes_a['data-value'] if votes_a and 'data-value' in votes_a.attrs else '0'\n",
    "\n",
    "    \n",
    "    temp.append((title, imdb_rating, metascore, votes))\n",
    "    print(temp)\n",
    "\n",
    "   \n"
   ]
  },
  {
   "cell_type": "markdown",
   "metadata": {},
   "source": [
    "## Creating data frame & Data wrangling"
   ]
  },
  {
   "cell_type": "markdown",
   "metadata": {},
   "source": [
    "Put the array into dataframe"
   ]
  },
  {
   "cell_type": "code",
   "execution_count": 21,
   "metadata": {
    "ExecuteTime": {
     "end_time": "2020-01-13T05:12:41.517372Z",
     "start_time": "2020-01-13T05:12:29.130015Z"
    }
   },
   "outputs": [],
   "source": [
    "#Import file menjadi pandas\n",
    "import pandas as pd\n",
    "\n",
    "df = pd.DataFrame(temp, columns = ('Title','IMDB Rating', 'Metascore', 'Votes'))"
   ]
  },
  {
   "cell_type": "code",
   "execution_count": 22,
   "metadata": {
    "scrolled": true
   },
   "outputs": [
    {
     "data": {
      "text/html": [
       "<div>\n",
       "<style scoped>\n",
       "    .dataframe tbody tr th:only-of-type {\n",
       "        vertical-align: middle;\n",
       "    }\n",
       "\n",
       "    .dataframe tbody tr th {\n",
       "        vertical-align: top;\n",
       "    }\n",
       "\n",
       "    .dataframe thead th {\n",
       "        text-align: right;\n",
       "    }\n",
       "</style>\n",
       "<table border=\"1\" class=\"dataframe\">\n",
       "  <thead>\n",
       "    <tr style=\"text-align: right;\">\n",
       "      <th></th>\n",
       "      <th>Title</th>\n",
       "      <th>IMDB Rating</th>\n",
       "      <th>Metascore</th>\n",
       "      <th>Votes</th>\n",
       "    </tr>\n",
       "  </thead>\n",
       "  <tbody>\n",
       "    <tr>\n",
       "      <th>0</th>\n",
       "      <td>Oppenheimer</td>\n",
       "      <td>8.6</td>\n",
       "      <td>88</td>\n",
       "      <td>428674</td>\n",
       "    </tr>\n",
       "    <tr>\n",
       "      <th>1</th>\n",
       "      <td>Barbie</td>\n",
       "      <td>7.2</td>\n",
       "      <td>80</td>\n",
       "      <td>299786</td>\n",
       "    </tr>\n",
       "    <tr>\n",
       "      <th>2</th>\n",
       "      <td>Special Ops: Lioness</td>\n",
       "      <td>7.7</td>\n",
       "      <td>0</td>\n",
       "      <td>19941</td>\n",
       "    </tr>\n",
       "    <tr>\n",
       "      <th>3</th>\n",
       "      <td>The Little Mermaid</td>\n",
       "      <td>7.2</td>\n",
       "      <td>59</td>\n",
       "      <td>123136</td>\n",
       "    </tr>\n",
       "    <tr>\n",
       "      <th>4</th>\n",
       "      <td>Teenage Mutant Ninja Turtles: Mutant Mayhem</td>\n",
       "      <td>7.3</td>\n",
       "      <td>74</td>\n",
       "      <td>32397</td>\n",
       "    </tr>\n",
       "    <tr>\n",
       "      <th>5</th>\n",
       "      <td>Indiana Jones and the Dial of Destiny</td>\n",
       "      <td>6.7</td>\n",
       "      <td>58</td>\n",
       "      <td>118824</td>\n",
       "    </tr>\n",
       "    <tr>\n",
       "      <th>6</th>\n",
       "      <td>No Hard Feelings</td>\n",
       "      <td>6.4</td>\n",
       "      <td>59</td>\n",
       "      <td>67244</td>\n",
       "    </tr>\n",
       "    <tr>\n",
       "      <th>7</th>\n",
       "      <td>The Flash</td>\n",
       "      <td>6.8</td>\n",
       "      <td>55</td>\n",
       "      <td>167412</td>\n",
       "    </tr>\n",
       "    <tr>\n",
       "      <th>8</th>\n",
       "      <td>Bottoms</td>\n",
       "      <td>7.6</td>\n",
       "      <td>77</td>\n",
       "      <td>4690</td>\n",
       "    </tr>\n",
       "    <tr>\n",
       "      <th>9</th>\n",
       "      <td>Sound of Freedom</td>\n",
       "      <td>7.9</td>\n",
       "      <td>36</td>\n",
       "      <td>55705</td>\n",
       "    </tr>\n",
       "    <tr>\n",
       "      <th>10</th>\n",
       "      <td>Gran Turismo</td>\n",
       "      <td>7.4</td>\n",
       "      <td>48</td>\n",
       "      <td>22148</td>\n",
       "    </tr>\n",
       "    <tr>\n",
       "      <th>11</th>\n",
       "      <td>Meg 2: The Trench</td>\n",
       "      <td>5.2</td>\n",
       "      <td>40</td>\n",
       "      <td>41150</td>\n",
       "    </tr>\n",
       "    <tr>\n",
       "      <th>12</th>\n",
       "      <td>Spider-Man: Across the Spider-Verse</td>\n",
       "      <td>8.7</td>\n",
       "      <td>86</td>\n",
       "      <td>256638</td>\n",
       "    </tr>\n",
       "    <tr>\n",
       "      <th>13</th>\n",
       "      <td>Guardians of the Galaxy Vol. 3</td>\n",
       "      <td>7.9</td>\n",
       "      <td>64</td>\n",
       "      <td>313994</td>\n",
       "    </tr>\n",
       "    <tr>\n",
       "      <th>14</th>\n",
       "      <td>Justified: City Primeval</td>\n",
       "      <td>7.5</td>\n",
       "      <td>0</td>\n",
       "      <td>10181</td>\n",
       "    </tr>\n",
       "    <tr>\n",
       "      <th>15</th>\n",
       "      <td>Dungeons &amp; Dragons: Honor Among Thieves</td>\n",
       "      <td>7.3</td>\n",
       "      <td>72</td>\n",
       "      <td>180244</td>\n",
       "    </tr>\n",
       "    <tr>\n",
       "      <th>16</th>\n",
       "      <td>Love Again</td>\n",
       "      <td>5.8</td>\n",
       "      <td>32</td>\n",
       "      <td>8350</td>\n",
       "    </tr>\n",
       "    <tr>\n",
       "      <th>17</th>\n",
       "      <td>The Boogeyman</td>\n",
       "      <td>6.0</td>\n",
       "      <td>55</td>\n",
       "      <td>21691</td>\n",
       "    </tr>\n",
       "    <tr>\n",
       "      <th>18</th>\n",
       "      <td>Past Lives</td>\n",
       "      <td>8.1</td>\n",
       "      <td>94</td>\n",
       "      <td>20599</td>\n",
       "    </tr>\n",
       "    <tr>\n",
       "      <th>19</th>\n",
       "      <td>Silo</td>\n",
       "      <td>8.1</td>\n",
       "      <td>0</td>\n",
       "      <td>84324</td>\n",
       "    </tr>\n",
       "    <tr>\n",
       "      <th>20</th>\n",
       "      <td>Killers of the Flower Moon</td>\n",
       "      <td>0</td>\n",
       "      <td>0</td>\n",
       "      <td>0</td>\n",
       "    </tr>\n",
       "    <tr>\n",
       "      <th>21</th>\n",
       "      <td>Mission: Impossible - Dead Reckoning Part One</td>\n",
       "      <td>7.9</td>\n",
       "      <td>81</td>\n",
       "      <td>137654</td>\n",
       "    </tr>\n",
       "    <tr>\n",
       "      <th>22</th>\n",
       "      <td>Asteroid City</td>\n",
       "      <td>6.6</td>\n",
       "      <td>75</td>\n",
       "      <td>71595</td>\n",
       "    </tr>\n",
       "    <tr>\n",
       "      <th>23</th>\n",
       "      <td>Hypnotic</td>\n",
       "      <td>5.4</td>\n",
       "      <td>53</td>\n",
       "      <td>20661</td>\n",
       "    </tr>\n",
       "    <tr>\n",
       "      <th>24</th>\n",
       "      <td>The Super Mario Bros. Movie</td>\n",
       "      <td>7.1</td>\n",
       "      <td>46</td>\n",
       "      <td>190832</td>\n",
       "    </tr>\n",
       "    <tr>\n",
       "      <th>25</th>\n",
       "      <td>Hijack</td>\n",
       "      <td>7.4</td>\n",
       "      <td>0</td>\n",
       "      <td>49471</td>\n",
       "    </tr>\n",
       "    <tr>\n",
       "      <th>26</th>\n",
       "      <td>Elemental</td>\n",
       "      <td>7.0</td>\n",
       "      <td>58</td>\n",
       "      <td>51844</td>\n",
       "    </tr>\n",
       "    <tr>\n",
       "      <th>27</th>\n",
       "      <td>The Last of Us</td>\n",
       "      <td>8.8</td>\n",
       "      <td>0</td>\n",
       "      <td>455428</td>\n",
       "    </tr>\n",
       "    <tr>\n",
       "      <th>28</th>\n",
       "      <td>Twisted Metal</td>\n",
       "      <td>7.4</td>\n",
       "      <td>0</td>\n",
       "      <td>16861</td>\n",
       "    </tr>\n",
       "    <tr>\n",
       "      <th>29</th>\n",
       "      <td>Cobweb</td>\n",
       "      <td>5.9</td>\n",
       "      <td>50</td>\n",
       "      <td>14234</td>\n",
       "    </tr>\n",
       "    <tr>\n",
       "      <th>30</th>\n",
       "      <td>John Wick: Chapter 4</td>\n",
       "      <td>7.8</td>\n",
       "      <td>78</td>\n",
       "      <td>272663</td>\n",
       "    </tr>\n",
       "    <tr>\n",
       "      <th>31</th>\n",
       "      <td>The Pope's Exorcist</td>\n",
       "      <td>6.1</td>\n",
       "      <td>45</td>\n",
       "      <td>61566</td>\n",
       "    </tr>\n",
       "    <tr>\n",
       "      <th>32</th>\n",
       "      <td>Champions</td>\n",
       "      <td>6.7</td>\n",
       "      <td>50</td>\n",
       "      <td>18604</td>\n",
       "    </tr>\n",
       "    <tr>\n",
       "      <th>33</th>\n",
       "      <td>Fast X</td>\n",
       "      <td>5.8</td>\n",
       "      <td>56</td>\n",
       "      <td>92835</td>\n",
       "    </tr>\n",
       "    <tr>\n",
       "      <th>34</th>\n",
       "      <td>Transformers: Rise of the Beasts</td>\n",
       "      <td>6.1</td>\n",
       "      <td>42</td>\n",
       "      <td>79474</td>\n",
       "    </tr>\n",
       "    <tr>\n",
       "      <th>35</th>\n",
       "      <td>The Covenant</td>\n",
       "      <td>7.5</td>\n",
       "      <td>63</td>\n",
       "      <td>116341</td>\n",
       "    </tr>\n",
       "    <tr>\n",
       "      <th>36</th>\n",
       "      <td>The Crowded Room</td>\n",
       "      <td>7.6</td>\n",
       "      <td>0</td>\n",
       "      <td>22287</td>\n",
       "    </tr>\n",
       "    <tr>\n",
       "      <th>37</th>\n",
       "      <td>Jury Duty</td>\n",
       "      <td>8.3</td>\n",
       "      <td>0</td>\n",
       "      <td>35284</td>\n",
       "    </tr>\n",
       "    <tr>\n",
       "      <th>38</th>\n",
       "      <td>Birth/Rebirth</td>\n",
       "      <td>6.2</td>\n",
       "      <td>77</td>\n",
       "      <td>1306</td>\n",
       "    </tr>\n",
       "    <tr>\n",
       "      <th>39</th>\n",
       "      <td>Misanthrope</td>\n",
       "      <td>6.6</td>\n",
       "      <td>43</td>\n",
       "      <td>24688</td>\n",
       "    </tr>\n",
       "    <tr>\n",
       "      <th>40</th>\n",
       "      <td>The Pod Generation</td>\n",
       "      <td>5.5</td>\n",
       "      <td>60</td>\n",
       "      <td>1229</td>\n",
       "    </tr>\n",
       "    <tr>\n",
       "      <th>41</th>\n",
       "      <td>Cocaine Bear</td>\n",
       "      <td>5.9</td>\n",
       "      <td>54</td>\n",
       "      <td>89617</td>\n",
       "    </tr>\n",
       "    <tr>\n",
       "      <th>42</th>\n",
       "      <td>Evil Dead Rise</td>\n",
       "      <td>6.6</td>\n",
       "      <td>69</td>\n",
       "      <td>111746</td>\n",
       "    </tr>\n",
       "    <tr>\n",
       "      <th>43</th>\n",
       "      <td>Culpa mía</td>\n",
       "      <td>6.2</td>\n",
       "      <td>0</td>\n",
       "      <td>17527</td>\n",
       "    </tr>\n",
       "    <tr>\n",
       "      <th>44</th>\n",
       "      <td>Kimitachi wa dô ikiru ka</td>\n",
       "      <td>7.7</td>\n",
       "      <td>89</td>\n",
       "      <td>941</td>\n",
       "    </tr>\n",
       "    <tr>\n",
       "      <th>45</th>\n",
       "      <td>Scream VI</td>\n",
       "      <td>6.5</td>\n",
       "      <td>61</td>\n",
       "      <td>99646</td>\n",
       "    </tr>\n",
       "    <tr>\n",
       "      <th>46</th>\n",
       "      <td>Haunted Mansion</td>\n",
       "      <td>6.2</td>\n",
       "      <td>47</td>\n",
       "      <td>12441</td>\n",
       "    </tr>\n",
       "    <tr>\n",
       "      <th>47</th>\n",
       "      <td>Secret Invasion</td>\n",
       "      <td>6.0</td>\n",
       "      <td>0</td>\n",
       "      <td>61424</td>\n",
       "    </tr>\n",
       "    <tr>\n",
       "      <th>48</th>\n",
       "      <td>The Walking Dead: Dead City</td>\n",
       "      <td>7.3</td>\n",
       "      <td>0</td>\n",
       "      <td>13170</td>\n",
       "    </tr>\n",
       "    <tr>\n",
       "      <th>49</th>\n",
       "      <td>Beau Is Afraid</td>\n",
       "      <td>6.8</td>\n",
       "      <td>63</td>\n",
       "      <td>40525</td>\n",
       "    </tr>\n",
       "  </tbody>\n",
       "</table>\n",
       "</div>"
      ],
      "text/plain": [
       "                                            Title IMDB Rating   \n",
       "0                                     Oppenheimer         8.6  \\\n",
       "1                                          Barbie         7.2   \n",
       "2                            Special Ops: Lioness         7.7   \n",
       "3                              The Little Mermaid         7.2   \n",
       "4     Teenage Mutant Ninja Turtles: Mutant Mayhem         7.3   \n",
       "5           Indiana Jones and the Dial of Destiny         6.7   \n",
       "6                                No Hard Feelings         6.4   \n",
       "7                                       The Flash         6.8   \n",
       "8                                         Bottoms         7.6   \n",
       "9                                Sound of Freedom         7.9   \n",
       "10                                   Gran Turismo         7.4   \n",
       "11                              Meg 2: The Trench         5.2   \n",
       "12            Spider-Man: Across the Spider-Verse         8.7   \n",
       "13                 Guardians of the Galaxy Vol. 3         7.9   \n",
       "14                       Justified: City Primeval         7.5   \n",
       "15        Dungeons & Dragons: Honor Among Thieves         7.3   \n",
       "16                                     Love Again         5.8   \n",
       "17                                  The Boogeyman         6.0   \n",
       "18                                     Past Lives         8.1   \n",
       "19                                           Silo         8.1   \n",
       "20                     Killers of the Flower Moon           0   \n",
       "21  Mission: Impossible - Dead Reckoning Part One         7.9   \n",
       "22                                  Asteroid City         6.6   \n",
       "23                                       Hypnotic         5.4   \n",
       "24                    The Super Mario Bros. Movie         7.1   \n",
       "25                                         Hijack         7.4   \n",
       "26                                      Elemental         7.0   \n",
       "27                                 The Last of Us         8.8   \n",
       "28                                  Twisted Metal         7.4   \n",
       "29                                         Cobweb         5.9   \n",
       "30                           John Wick: Chapter 4         7.8   \n",
       "31                            The Pope's Exorcist         6.1   \n",
       "32                                      Champions         6.7   \n",
       "33                                         Fast X         5.8   \n",
       "34               Transformers: Rise of the Beasts         6.1   \n",
       "35                                   The Covenant         7.5   \n",
       "36                               The Crowded Room         7.6   \n",
       "37                                      Jury Duty         8.3   \n",
       "38                                  Birth/Rebirth         6.2   \n",
       "39                                    Misanthrope         6.6   \n",
       "40                             The Pod Generation         5.5   \n",
       "41                                   Cocaine Bear         5.9   \n",
       "42                                 Evil Dead Rise         6.6   \n",
       "43                                      Culpa mía         6.2   \n",
       "44                       Kimitachi wa dô ikiru ka         7.7   \n",
       "45                                      Scream VI         6.5   \n",
       "46                                Haunted Mansion         6.2   \n",
       "47                                Secret Invasion         6.0   \n",
       "48                    The Walking Dead: Dead City         7.3   \n",
       "49                                 Beau Is Afraid         6.8   \n",
       "\n",
       "             Metascore   Votes  \n",
       "0   88                  428674  \n",
       "1   80                  299786  \n",
       "2                    0   19941  \n",
       "3   59                  123136  \n",
       "4   74                   32397  \n",
       "5   58                  118824  \n",
       "6   59                   67244  \n",
       "7   55                  167412  \n",
       "8   77                    4690  \n",
       "9   36                   55705  \n",
       "10  48                   22148  \n",
       "11  40                   41150  \n",
       "12  86                  256638  \n",
       "13  64                  313994  \n",
       "14                   0   10181  \n",
       "15  72                  180244  \n",
       "16  32                    8350  \n",
       "17  55                   21691  \n",
       "18  94                   20599  \n",
       "19                   0   84324  \n",
       "20                   0       0  \n",
       "21  81                  137654  \n",
       "22  75                   71595  \n",
       "23  53                   20661  \n",
       "24  46                  190832  \n",
       "25                   0   49471  \n",
       "26  58                   51844  \n",
       "27                   0  455428  \n",
       "28                   0   16861  \n",
       "29  50                   14234  \n",
       "30  78                  272663  \n",
       "31  45                   61566  \n",
       "32  50                   18604  \n",
       "33  56                   92835  \n",
       "34  42                   79474  \n",
       "35  63                  116341  \n",
       "36                   0   22287  \n",
       "37                   0   35284  \n",
       "38  77                    1306  \n",
       "39  43                   24688  \n",
       "40  60                    1229  \n",
       "41  54                   89617  \n",
       "42  69                  111746  \n",
       "43                   0   17527  \n",
       "44  89                     941  \n",
       "45  61                   99646  \n",
       "46  47                   12441  \n",
       "47                   0   61424  \n",
       "48                   0   13170  \n",
       "49  63                   40525  "
      ]
     },
     "execution_count": 22,
     "metadata": {},
     "output_type": "execute_result"
    }
   ],
   "source": [
    "df"
   ]
  },
  {
   "cell_type": "markdown",
   "metadata": {},
   "source": [
    "Do the data cleaning here (please change this markdown with your explanation of what you do for data wrangling)"
   ]
  },
  {
   "cell_type": "code",
   "execution_count": 23,
   "metadata": {
    "scrolled": true
   },
   "outputs": [
    {
     "data": {
      "text/plain": [
       "Title          object\n",
       "IMDB Rating    object\n",
       "Metascore      object\n",
       "Votes          object\n",
       "dtype: object"
      ]
     },
     "execution_count": 23,
     "metadata": {},
     "output_type": "execute_result"
    }
   ],
   "source": [
    "# checking data types\n",
    "df.dtypes"
   ]
  },
  {
   "cell_type": "code",
   "execution_count": 24,
   "metadata": {
    "ExecuteTime": {
     "end_time": "2020-01-13T05:12:59.165559Z",
     "start_time": "2020-01-13T05:12:58.910012Z"
    },
    "scrolled": false
   },
   "outputs": [],
   "source": [
    "#Penggantian astype IMDB Rating menjadi 'float64'\n",
    "df['IMDB Rating'] = df['IMDB Rating'].astype('float64')"
   ]
  },
  {
   "cell_type": "code",
   "execution_count": 25,
   "metadata": {
    "scrolled": true
   },
   "outputs": [],
   "source": [
    "#Penggantian astype Votes menjadi 'int64'\n",
    "df[['Votes', 'Metascore']] = df[['Votes', 'Metascore']].astype('int64')"
   ]
  },
  {
   "cell_type": "code",
   "execution_count": 26,
   "metadata": {},
   "outputs": [
    {
     "data": {
      "text/html": [
       "<div>\n",
       "<style scoped>\n",
       "    .dataframe tbody tr th:only-of-type {\n",
       "        vertical-align: middle;\n",
       "    }\n",
       "\n",
       "    .dataframe tbody tr th {\n",
       "        vertical-align: top;\n",
       "    }\n",
       "\n",
       "    .dataframe thead th {\n",
       "        text-align: right;\n",
       "    }\n",
       "</style>\n",
       "<table border=\"1\" class=\"dataframe\">\n",
       "  <thead>\n",
       "    <tr style=\"text-align: right;\">\n",
       "      <th></th>\n",
       "      <th>IMDB Rating</th>\n",
       "      <th>Metascore</th>\n",
       "      <th>Votes</th>\n",
       "    </tr>\n",
       "    <tr>\n",
       "      <th>Title</th>\n",
       "      <th></th>\n",
       "      <th></th>\n",
       "      <th></th>\n",
       "    </tr>\n",
       "  </thead>\n",
       "  <tbody>\n",
       "    <tr>\n",
       "      <th>The Last of Us</th>\n",
       "      <td>8.8</td>\n",
       "      <td>0</td>\n",
       "      <td>455428</td>\n",
       "    </tr>\n",
       "    <tr>\n",
       "      <th>Spider-Man: Across the Spider-Verse</th>\n",
       "      <td>8.7</td>\n",
       "      <td>86</td>\n",
       "      <td>256638</td>\n",
       "    </tr>\n",
       "    <tr>\n",
       "      <th>Oppenheimer</th>\n",
       "      <td>8.6</td>\n",
       "      <td>88</td>\n",
       "      <td>428674</td>\n",
       "    </tr>\n",
       "    <tr>\n",
       "      <th>Jury Duty</th>\n",
       "      <td>8.3</td>\n",
       "      <td>0</td>\n",
       "      <td>35284</td>\n",
       "    </tr>\n",
       "    <tr>\n",
       "      <th>Past Lives</th>\n",
       "      <td>8.1</td>\n",
       "      <td>94</td>\n",
       "      <td>20599</td>\n",
       "    </tr>\n",
       "    <tr>\n",
       "      <th>Silo</th>\n",
       "      <td>8.1</td>\n",
       "      <td>0</td>\n",
       "      <td>84324</td>\n",
       "    </tr>\n",
       "    <tr>\n",
       "      <th>Sound of Freedom</th>\n",
       "      <td>7.9</td>\n",
       "      <td>36</td>\n",
       "      <td>55705</td>\n",
       "    </tr>\n",
       "  </tbody>\n",
       "</table>\n",
       "</div>"
      ],
      "text/plain": [
       "                                     IMDB Rating  Metascore   Votes\n",
       "Title                                                              \n",
       "The Last of Us                               8.8          0  455428\n",
       "Spider-Man: Across the Spider-Verse          8.7         86  256638\n",
       "Oppenheimer                                  8.6         88  428674\n",
       "Jury Duty                                    8.3          0   35284\n",
       "Past Lives                                   8.1         94   20599\n",
       "Silo                                         8.1          0   84324\n",
       "Sound of Freedom                             7.9         36   55705"
      ]
     },
     "execution_count": 26,
     "metadata": {},
     "output_type": "execute_result"
    }
   ],
   "source": [
    "#Pengambilan top 7 film di IMDB Rating\n",
    "dftopimdb = df.sort_values('IMDB Rating', ascending = False).head(7)\n",
    "dftopimdb = dftopimdb.set_index('Title')  # Mengeset index\n",
    "dftopimdb"
   ]
  },
  {
   "cell_type": "code",
   "execution_count": 27,
   "metadata": {
    "scrolled": true
   },
   "outputs": [
    {
     "data": {
      "text/html": [
       "<div>\n",
       "<style scoped>\n",
       "    .dataframe tbody tr th:only-of-type {\n",
       "        vertical-align: middle;\n",
       "    }\n",
       "\n",
       "    .dataframe tbody tr th {\n",
       "        vertical-align: top;\n",
       "    }\n",
       "\n",
       "    .dataframe thead th {\n",
       "        text-align: right;\n",
       "    }\n",
       "</style>\n",
       "<table border=\"1\" class=\"dataframe\">\n",
       "  <thead>\n",
       "    <tr style=\"text-align: right;\">\n",
       "      <th></th>\n",
       "      <th>IMDB Rating</th>\n",
       "      <th>Metascore</th>\n",
       "      <th>Votes</th>\n",
       "    </tr>\n",
       "    <tr>\n",
       "      <th>Title</th>\n",
       "      <th></th>\n",
       "      <th></th>\n",
       "      <th></th>\n",
       "    </tr>\n",
       "  </thead>\n",
       "  <tbody>\n",
       "    <tr>\n",
       "      <th>Past Lives</th>\n",
       "      <td>8.1</td>\n",
       "      <td>94</td>\n",
       "      <td>20599</td>\n",
       "    </tr>\n",
       "    <tr>\n",
       "      <th>Kimitachi wa dô ikiru ka</th>\n",
       "      <td>7.7</td>\n",
       "      <td>89</td>\n",
       "      <td>941</td>\n",
       "    </tr>\n",
       "    <tr>\n",
       "      <th>Oppenheimer</th>\n",
       "      <td>8.6</td>\n",
       "      <td>88</td>\n",
       "      <td>428674</td>\n",
       "    </tr>\n",
       "    <tr>\n",
       "      <th>Spider-Man: Across the Spider-Verse</th>\n",
       "      <td>8.7</td>\n",
       "      <td>86</td>\n",
       "      <td>256638</td>\n",
       "    </tr>\n",
       "    <tr>\n",
       "      <th>Mission: Impossible - Dead Reckoning Part One</th>\n",
       "      <td>7.9</td>\n",
       "      <td>81</td>\n",
       "      <td>137654</td>\n",
       "    </tr>\n",
       "    <tr>\n",
       "      <th>Barbie</th>\n",
       "      <td>7.2</td>\n",
       "      <td>80</td>\n",
       "      <td>299786</td>\n",
       "    </tr>\n",
       "    <tr>\n",
       "      <th>John Wick: Chapter 4</th>\n",
       "      <td>7.8</td>\n",
       "      <td>78</td>\n",
       "      <td>272663</td>\n",
       "    </tr>\n",
       "  </tbody>\n",
       "</table>\n",
       "</div>"
      ],
      "text/plain": [
       "                                               IMDB Rating  Metascore   Votes\n",
       "Title                                                                        \n",
       "Past Lives                                             8.1         94   20599\n",
       "Kimitachi wa dô ikiru ka                               7.7         89     941\n",
       "Oppenheimer                                            8.6         88  428674\n",
       "Spider-Man: Across the Spider-Verse                    8.7         86  256638\n",
       "Mission: Impossible - Dead Reckoning Part One          7.9         81  137654\n",
       "Barbie                                                 7.2         80  299786\n",
       "John Wick: Chapter 4                                   7.8         78  272663"
      ]
     },
     "execution_count": 27,
     "metadata": {},
     "output_type": "execute_result"
    }
   ],
   "source": [
    "#Pengambilan top 7 film di Metascore\n",
    "dftopmetascore = df.sort_values('Metascore', ascending = False).head(7)\n",
    "dftopmetascore = dftopmetascore.set_index('Title')  # Mengeset index\n",
    "dftopmetascore"
   ]
  },
  {
   "cell_type": "code",
   "execution_count": 28,
   "metadata": {},
   "outputs": [
    {
     "data": {
      "text/html": [
       "<div>\n",
       "<style scoped>\n",
       "    .dataframe tbody tr th:only-of-type {\n",
       "        vertical-align: middle;\n",
       "    }\n",
       "\n",
       "    .dataframe tbody tr th {\n",
       "        vertical-align: top;\n",
       "    }\n",
       "\n",
       "    .dataframe thead th {\n",
       "        text-align: right;\n",
       "    }\n",
       "</style>\n",
       "<table border=\"1\" class=\"dataframe\">\n",
       "  <thead>\n",
       "    <tr style=\"text-align: right;\">\n",
       "      <th></th>\n",
       "      <th>IMDB Rating</th>\n",
       "      <th>Metascore</th>\n",
       "      <th>Votes</th>\n",
       "    </tr>\n",
       "    <tr>\n",
       "      <th>Title</th>\n",
       "      <th></th>\n",
       "      <th></th>\n",
       "      <th></th>\n",
       "    </tr>\n",
       "  </thead>\n",
       "  <tbody>\n",
       "    <tr>\n",
       "      <th>The Last of Us</th>\n",
       "      <td>8.8</td>\n",
       "      <td>0</td>\n",
       "      <td>455428</td>\n",
       "    </tr>\n",
       "    <tr>\n",
       "      <th>Oppenheimer</th>\n",
       "      <td>8.6</td>\n",
       "      <td>88</td>\n",
       "      <td>428674</td>\n",
       "    </tr>\n",
       "    <tr>\n",
       "      <th>Guardians of the Galaxy Vol. 3</th>\n",
       "      <td>7.9</td>\n",
       "      <td>64</td>\n",
       "      <td>313994</td>\n",
       "    </tr>\n",
       "    <tr>\n",
       "      <th>Barbie</th>\n",
       "      <td>7.2</td>\n",
       "      <td>80</td>\n",
       "      <td>299786</td>\n",
       "    </tr>\n",
       "    <tr>\n",
       "      <th>John Wick: Chapter 4</th>\n",
       "      <td>7.8</td>\n",
       "      <td>78</td>\n",
       "      <td>272663</td>\n",
       "    </tr>\n",
       "    <tr>\n",
       "      <th>Spider-Man: Across the Spider-Verse</th>\n",
       "      <td>8.7</td>\n",
       "      <td>86</td>\n",
       "      <td>256638</td>\n",
       "    </tr>\n",
       "    <tr>\n",
       "      <th>The Super Mario Bros. Movie</th>\n",
       "      <td>7.1</td>\n",
       "      <td>46</td>\n",
       "      <td>190832</td>\n",
       "    </tr>\n",
       "  </tbody>\n",
       "</table>\n",
       "</div>"
      ],
      "text/plain": [
       "                                     IMDB Rating  Metascore   Votes\n",
       "Title                                                              \n",
       "The Last of Us                               8.8          0  455428\n",
       "Oppenheimer                                  8.6         88  428674\n",
       "Guardians of the Galaxy Vol. 3               7.9         64  313994\n",
       "Barbie                                       7.2         80  299786\n",
       "John Wick: Chapter 4                         7.8         78  272663\n",
       "Spider-Man: Across the Spider-Verse          8.7         86  256638\n",
       "The Super Mario Bros. Movie                  7.1         46  190832"
      ]
     },
     "execution_count": 28,
     "metadata": {},
     "output_type": "execute_result"
    }
   ],
   "source": [
    "#Pengambilan top 7 film di Metascore\n",
    "dftopvotes = df.sort_values('Votes', ascending = False).head(7)\n",
    "dftopvotes = dftopvotes.set_index('Title') # Mengeset index\n",
    "dftopvotes"
   ]
  },
  {
   "cell_type": "markdown",
   "metadata": {},
   "source": [
    "### Implementing your webscrapping to the flask dashboard\n",
    "\n",
    "- Copy paste all of your web scrapping process to the desired position on the `app.py`\n",
    "- Changing the title of the dasboard at `index.html`"
   ]
  },
  {
   "cell_type": "markdown",
   "metadata": {},
   "source": [
    "Data visualisation (please change this markdown with your explanation of what you do for data wrangling)"
   ]
  },
  {
   "cell_type": "markdown",
   "metadata": {},
   "source": [
    "## Finishing This Notebook with Your Analysis and Conclusion\n",
    "\n",
    "First you can do start with making the data visualisation. "
   ]
  },
  {
   "cell_type": "code",
   "execution_count": 29,
   "metadata": {
    "ExecuteTime": {
     "end_time": "2020-01-13T05:20:56.208237Z",
     "start_time": "2020-01-13T05:20:56.076043Z"
    }
   },
   "outputs": [
    {
     "data": {
      "image/png": "[encoded data removed]",
      "text/plain": [
       "<Figure size 640x480 with 1 Axes>"
      ]
     },
     "metadata": {},
     "output_type": "display_data"
    }
   ],
   "source": [
    "# Visualisasi data Top 7 menurut IMDB Rating\n",
    "dftopimdb['IMDB Rating'].plot(kind = 'barh').invert_yaxis()"
   ]
  },
  {
   "cell_type": "markdown",
   "metadata": {},
   "source": [
    "Menurut data di atas, dari *top 7 movie by IMDB Rating* yang direlease pada periode diantara 2023-01-01 dan 2023-07-31, The Last of Us merupakan film yang mendapatkan rating tertinggi yang diikuti oleh Spider-Man: Across the Spider-Verse lalu Oppenheimer."
   ]
  },
  {
   "cell_type": "code",
   "execution_count": 32,
   "metadata": {
    "scrolled": true
   },
   "outputs": [
    {
     "data": {
      "image/png": "[encoded data removed]",
      "text/plain": [
       "<Figure size 640x480 with 1 Axes>"
      ]
     },
     "metadata": {},
     "output_type": "display_data"
    }
   ],
   "source": [
    "# Visualisasi data Top 7 menurut vote score\n",
    "dftopvotes['Votes'].plot(kind = 'barh').invert_yaxis()"
   ]
  },
  {
   "cell_type": "markdown",
   "metadata": {},
   "source": [
    "Menurut data di atas, dari *top 7 movie menurut data ketingian Vote* yang direlease pada periode diantara 2023-01-01 dan 2023-07-31, The Last of Us merupakan film yang mendapatkan votes tertinggi dan diikuti oleh Oppenheimer lalu Guardians of the Galaxy Vol. 3. "
   ]
  },
  {
   "cell_type": "code",
   "execution_count": 31,
   "metadata": {
    "scrolled": true
   },
   "outputs": [
    {
     "data": {
      "image/png": "[encoded data removed]",
      "text/plain": [
       "<Figure size 640x480 with 1 Axes>"
      ]
     },
     "metadata": {},
     "output_type": "display_data"
    }
   ],
   "source": [
    "# Visualisasi data Top 7 menurut Metascore\n",
    "dftopmetascore['Metascore'].plot(kind = 'barh').invert_yaxis()"
   ]
  },
  {
   "cell_type": "markdown",
   "metadata": {},
   "source": [
    "Menurut data di atas, dari *top 7 movie by Metascore* yang direlease pada periode diantara 2023-01-01 dan 2023-07-31, Past Lives memiliki metascore tertinggi dan diikuti oleh film Kimitachi wa Dō Ikiru ka lalu Oppenheimer."
   ]
  },
  {
   "cell_type": "markdown",
   "metadata": {},
   "source": [
    "### Implement it at the webapps\n",
    "\n",
    "- You can create additional analysis from the data.\n",
    "- Implement it to the dashboard with at `app.py` dan `index.html`."
   ]
  }
 ],
 "metadata": {
  "kernelspec": {
   "display_name": "Python 3 (ipykernel)",
   "language": "python",
   "name": "python3"
  },
  "language_info": {
   "codemirror_mode": {
    "name": "ipython",
    "version": 3
   },
   "file_extension": ".py",
   "mimetype": "text/x-python",
   "name": "python",
   "nbconvert_exporter": "python",
   "pygments_lexer": "ipython3",
   "version": "3.10.13"
  }
 },
 "nbformat": 4,
 "nbformat_minor": 2
}
